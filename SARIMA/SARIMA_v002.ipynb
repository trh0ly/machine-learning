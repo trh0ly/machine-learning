{
 "cells": [
  {
   "cell_type": "markdown",
   "metadata": {},
   "source": [
    "# Erstellen einer Umsatzprognose\n",
    "© Thomas Robert Holy 2019\n",
    "<br>\n",
    "Version 0.0.2\n",
    "<br><br>\n",
    "Visit me on GitHub: https://github.com/trh0ly"
   ]
  },
  {
   "cell_type": "markdown",
   "metadata": {},
   "source": [
    "## Import Packages"
   ]
  },
  {
   "cell_type": "code",
   "execution_count": null,
   "metadata": {},
   "outputs": [],
   "source": [
    "#----------------\n",
    "# Web Scrap\n",
    "from urllib.request import urlopen\n",
    "from bs4 import BeautifulSoup\n",
    "import requests\n",
    "import re\n",
    "import string\n",
    "\n",
    "#----------------\n",
    "# Forecast\n",
    "from statsmodels.tsa.seasonal import seasonal_decompose\n",
    "from pmdarima.arima import auto_arima\n",
    "import statsmodels.api as sm\n",
    "\n",
    "#----------------\n",
    "# Verschiedenes\n",
    "from plotly.offline import download_plotlyjs, init_notebook_mode, plot, iplot\n",
    "init_notebook_mode(connected=True)\n",
    "import plotly.graph_objs as go\n",
    "import matplotlib.pyplot as plt\n",
    "%matplotlib inline  \n",
    "import matplotlib.patches as mpatches\n",
    "import numpy as np\n",
    "import pandas as pd\n",
    "import datetime"
   ]
  },
  {
   "cell_type": "markdown",
   "metadata": {},
   "source": [
    "## Optikeinstellungen"
   ]
  },
  {
   "cell_type": "code",
   "execution_count": null,
   "metadata": {},
   "outputs": [],
   "source": [
    "%%javascript\n",
    "IPython.OutputArea.auto_scroll_threshold = 9999;"
   ]
  },
  {
   "cell_type": "code",
   "execution_count": null,
   "metadata": {},
   "outputs": [],
   "source": [
    "from IPython.core.display import display, HTML\n",
    "display(HTML(\"<style>.container { width:100% !important; }</style>\"))\n",
    "pd.set_option('display.width', 350)\n",
    "plt.rcParams['figure.figsize'] = (24, 12) # macht die Plots größer"
   ]
  },
  {
   "cell_type": "markdown",
   "metadata": {},
   "source": [
    "## Datenbeschaffung und Manipulation\n",
    "### Web Scrap historischer Daten von Statista"
   ]
  },
  {
   "cell_type": "code",
   "execution_count": null,
   "metadata": {},
   "outputs": [],
   "source": [
    "\"\"\"\n",
    "#url = 'https://www.statista.com/statistics/273963/quarterly-revenue-of-amazoncom/' # Amazon\n",
    "#url = 'https://www.statista.com/statistics/263427/apples-net-income-since-first-quarter-2005/' # Apple\n",
    "url = 'https://www.statista.com/statistics/323046/alibaba-quarterly-group-revenue/' # Alibaba\n",
    "\n",
    "html = requests.get(url)\n",
    "soup = BeautifulSoup(html.text, 'lxml')\n",
    "\n",
    "chart = soup.find(\"tbody\")\n",
    "children = chart.find_all(\"tr\")\n",
    "\n",
    "data = []\n",
    "for tag in children:\n",
    "    data_tuple = (tag.text[:6],tag.text[6:])\n",
    "    data.append(data_tuple)\n",
    "\n",
    "quartals, revenues = [], []\n",
    "for i in range(0, len(data)):\n",
    "    x = data[i][0]\n",
    "    y = data[i][1]\n",
    "    quartal = x.replace(' ', '')\n",
    "    y = y.replace(',', '.')\n",
    "    revenue = float(y)\n",
    "    quartals.append(quartal)\n",
    "    revenues.append(revenue)\n",
    "\n",
    "quartals = quartals[::-1]\n",
    "revenues = revenues[::-1]\n",
    "print(quartals)\n",
    "print(revenues)\n",
    "\"\"\""
   ]
  },
  {
   "cell_type": "markdown",
   "metadata": {},
   "source": [
    "### DataFrame mit den Daten erzeugen und Überprüfen"
   ]
  },
  {
   "cell_type": "code",
   "execution_count": null,
   "metadata": {},
   "outputs": [],
   "source": [
    "#----------------------------------------\n",
    "# Daten als Array manuell gespeichert \n",
    "\n",
    "#-----------------------\n",
    "# Apple\n",
    "\n",
    "quartals = [\"Q1'05\", \"Q2'05\", \"Q3'05\", \"Q4'05\", \"Q1'06\", \"Q2'06\", \"Q3'06\", \"Q4'06\", \"Q1'07\", \"Q2'07\", \"Q3'07\",\n",
    "            \"Q4'07\", \"Q1'08\", \"Q2'08\", \"Q3'08\", \"Q4'08\", \"Q1'09\", \"Q2'09\", \"Q3'09\", \"Q4'09\", \"Q1'10\", \"Q2'10\",\n",
    "            \"Q3'10\", \"Q4'10\", \"Q1'11\", \"Q2'11\", \"Q3'11\", \"Q4'11\", \"Q1'12\", \"Q2'12\", \"Q3'12\", \"Q4'12\", \"Q1'13\",\n",
    "            \"Q2'13\", \"Q3'13\", \"Q4'13\", \"Q1'14\", \"Q2'14\", \"Q3'14\", \"Q4'14\", \"Q1'15\", \"Q2'15\", \"Q3'15\", \"Q4'15\",\n",
    "            \"Q1'16\", \"Q2'16\", \"Q3'16\", \"Q4'16\", \"Q1'17\", \"Q2'17\", \"Q3'17\", \"Q4'17\", \"Q1'18\", \"Q2'18\", \"Q3'18\",\n",
    "            \"Q4'18\", \"Q1'19\", \"Q2'19\", \"Q3'19\", \"Q4'19\"]\n",
    "\n",
    "revenues = [0.3, 0.29, 0.32, 0.43, 0.57, 0.41, 0.47, 0.55, 1.01, 0.77, 0.84, 0.87, 1.64, 1.1, 1.13, 2.25, 2.26,\n",
    "            1.62, 1.82, 2.53, 3.38, 3.07, 3.25, 4.31, 6.0, 5.99, 7.31, 6.62, 13.06, 11.62, 8.82, 8.22, 13.1, 9.55,\n",
    "            6.9, 7.5, 13.07, 10.22, 7.75, 8.47, 18.02, 13.57, 10.68, 11.12, 18.36, 10.52, 7.8, 9.01, 17.89, 11.03,\n",
    "            8.72, 10.71, 20.07, 13.82, 11.52, 14.13, 19.97, 11.56, 10.04, 13.69]\n",
    "\n",
    "print(len(quartals))\n",
    "print(len(revenues))\n",
    "\n",
    "#----------------------------------------\n",
    "# Logarithmus anwenden\n",
    "revenues = np.log(revenues)\n",
    "\n",
    "#----------------------------------------\n",
    "# Quartale umbenennen \n",
    "quartals_new = []\n",
    "for i in quartals:\n",
    "    x = '20' + str(i[3:])\n",
    "    y = i[:2]\n",
    "    z = str(x) + '-' + str(y)\n",
    "    quartals_new.append(z)\n",
    "    \n",
    "#----------------------------------------\n",
    "# DataFrame mit bereinigten Daten erzeugen\n",
    "original_data = pd.DataFrame({'Periode':quartals_new, 'Umsatz':revenues})\n",
    "original_data['Periode'] = pd.to_datetime(original_data['Periode'].str.replace(r'(Q\\d) (\\d+)', r'\\2-\\1'), errors='coerce')\n",
    "original_data.isnull().sum()"
   ]
  },
  {
   "cell_type": "markdown",
   "metadata": {},
   "source": [
    "## Visualisierung des DataFrames"
   ]
  },
  {
   "cell_type": "code",
   "execution_count": null,
   "metadata": {},
   "outputs": [],
   "source": [
    "original_data.Umsatz.plot(figsize=(12,8), title= 'Revenues Apple', fontsize=20)\n",
    "original_data.tail(8)"
   ]
  },
  {
   "cell_type": "markdown",
   "metadata": {},
   "source": [
    "## Zerlegung der Zeitreihe in einzelne Komponenten"
   ]
  },
  {
   "cell_type": "code",
   "execution_count": null,
   "metadata": {},
   "outputs": [],
   "source": [
    "decomposition = seasonal_decompose(original_data.Umsatz, freq=4)  \n",
    "fig = plt.figure()  \n",
    "fig = decomposition.plot()  \n",
    "fig.set_size_inches(15, 8)"
   ]
  },
  {
   "cell_type": "markdown",
   "metadata": {},
   "source": [
    "## Test- und Trainingsdatensatz erstellen"
   ]
  },
  {
   "cell_type": "code",
   "execution_count": null,
   "metadata": {},
   "outputs": [],
   "source": [
    "#----------------------------------------\n",
    "# Test-Datensatz\n",
    "test_df = original_data.tail(6)\n",
    "test_df = test_df.drop('Umsatz', axis=1)\n",
    "test_df.head(6)"
   ]
  },
  {
   "cell_type": "code",
   "execution_count": null,
   "metadata": {},
   "outputs": [],
   "source": [
    "#----------------------------------------\n",
    "# Trainings-Datensatz\n",
    "train_df = original_data.copy(deep=True)\n",
    "train_df.drop(train_df.tail(6).index,inplace=True)\n",
    "train_df.tail(6)"
   ]
  },
  {
   "cell_type": "code",
   "execution_count": null,
   "metadata": {},
   "outputs": [],
   "source": [
    "train_df.Umsatz.plot(figsize=(12,8), title= 'Revenues Apple', fontsize=14)"
   ]
  },
  {
   "cell_type": "markdown",
   "metadata": {},
   "source": [
    "## Visuelle Überprüfung der Zeitreihe auf Stationarität"
   ]
  },
  {
   "cell_type": "code",
   "execution_count": null,
   "metadata": {},
   "outputs": [],
   "source": [
    "rolmean = train_df.rolling(window=4).mean()\n",
    "rolstd = train_df.rolling(window=4).std()\n",
    "\n",
    "orig = plt.plot(train_df.Umsatz, color='blue', label='Original')\n",
    "mean = plt.plot(rolmean, color='orange', label='mean')\n",
    "std = plt.plot(rolstd, color='red', label='std')\n",
    "plt.legend(loc='best')\n",
    "plt.title('Rolling Mean and STD')\n",
    "plt.show()"
   ]
  },
  {
   "cell_type": "markdown",
   "metadata": {},
   "source": [
    "## Automatisierte Suche nach bestem Modell (SARIMA)"
   ]
  },
  {
   "cell_type": "code",
   "execution_count": null,
   "metadata": {},
   "outputs": [],
   "source": [
    "decomposition = auto_arima(train_df.Umsatz, start_p=1, start_q=1,\n",
    "                           max_p=3, max_q=3, m=4,\n",
    "                           start_P=0, seasonal=True,\n",
    "                           d=1, D=1, trace=True,\n",
    "                           error_action='ignore',  \n",
    "                           suppress_warnings=True, \n",
    "                           stepwise=True)"
   ]
  },
  {
   "cell_type": "code",
   "execution_count": null,
   "metadata": {},
   "outputs": [],
   "source": [
    "decomposition.aic()"
   ]
  },
  {
   "cell_type": "markdown",
   "metadata": {},
   "source": [
    "## Fitten des Modells auf den Trainingsdatensatz"
   ]
  },
  {
   "cell_type": "code",
   "execution_count": null,
   "metadata": {},
   "outputs": [],
   "source": [
    "mod = sm.tsa.statespace.SARIMAX(train_df.Umsatz,\n",
    "                                order=(0, 1, 1),\n",
    "                                seasonal_order=(0, 1, 1, 4),\n",
    "                                enforce_stationarity=False,\n",
    "                                enforce_invertibility=False)\n",
    "decomposition = mod.fit()\n",
    "#print(decomposition.summary())"
   ]
  },
  {
   "cell_type": "code",
   "execution_count": null,
   "metadata": {},
   "outputs": [],
   "source": [
    "#decomposition.plot_diagnostics(figsize=(15, 12))\n",
    "#plt.show()"
   ]
  },
  {
   "cell_type": "markdown",
   "metadata": {},
   "source": [
    "## Forcast und Visualisierung"
   ]
  },
  {
   "cell_type": "code",
   "execution_count": null,
   "metadata": {},
   "outputs": [],
   "source": [
    "# Get forecast ahead in future\n",
    "pred_uc = decomposition.get_forecast(steps=12)\n",
    "\n",
    "# Get confidence intervals of forecasts\n",
    "pred_ci = pred_uc.conf_int()"
   ]
  },
  {
   "cell_type": "code",
   "execution_count": null,
   "metadata": {},
   "outputs": [],
   "source": [
    "ax = train_df['Umsatz'].plot(label='observed', figsize=(20, 10))\n",
    "pred_uc.predicted_mean.plot(ax=ax, label='Forecast')\n",
    "ax.fill_between(pred_ci.index,\n",
    "                pred_ci.iloc[:, 0],\n",
    "                pred_ci.iloc[:, 1], color='k',\n",
    "                label='95% confidence level', alpha=.25)\n",
    "ax.set_xlabel('Date')\n",
    "ax.set_ylabel('Revenue')\n",
    "\n",
    "plt.legend()\n",
    "plt.show()"
   ]
  },
  {
   "cell_type": "code",
   "execution_count": null,
   "metadata": {},
   "outputs": [],
   "source": [
    "pred_ci.head(6)"
   ]
  },
  {
   "cell_type": "code",
   "execution_count": null,
   "metadata": {},
   "outputs": [],
   "source": [
    "forecast = decomposition.forecast(6)\n",
    "forecast.head(6)"
   ]
  },
  {
   "cell_type": "markdown",
   "metadata": {},
   "source": [
    "## Forecast vs. historische Daten im Testdatensatz"
   ]
  },
  {
   "cell_type": "code",
   "execution_count": null,
   "metadata": {},
   "outputs": [],
   "source": [
    "#----------------------------------------\n",
    "# Forecast DataFrame und Original-DataFrame \n",
    "\n",
    "yActual = original_data.tail(6)['Umsatz'].values.tolist()\n",
    "yPredicted = forecast.head(6).values.tolist()\n",
    "periode = original_data.Periode.tail(6)\n",
    "\n",
    "#----------------------------------------\n",
    "# Plot Prognose vs. Original\n",
    "\n",
    "plt.plot(periode,yActual, color='red') # Rot\n",
    "plt.plot(periode,yPredicted, color='green') # Grün\n",
    "green_patch = mpatches.Patch(color='green', label='Forecast') \n",
    "red_patch = mpatches.Patch(color='red', label='Historisch') \n",
    "plt.legend(handles=[green_patch, red_patch])\n",
    "plt.title(\"Forecasted Value vs Actuals\")\n",
    "plt.show()"
   ]
  },
  {
   "cell_type": "code",
   "execution_count": null,
   "metadata": {},
   "outputs": [],
   "source": [
    "compare_df = pd.DataFrame()\n",
    "compare_df['Period'] = original_data.Periode.tail(6)\n",
    "compare_df['Umsatz_original'] = np.exp(yActual)\n",
    "compare_df['Umsatz_Forecast'] = np.exp(yPredicted)\n",
    "compare_df['PctChg'] = round(((compare_df.Umsatz_original - compare_df.Umsatz_Forecast) / compare_df.Umsatz_original * 100), 2)\n",
    "compare_df"
   ]
  },
  {
   "cell_type": "code",
   "execution_count": null,
   "metadata": {},
   "outputs": [],
   "source": [
    "compare_df.PctChg.mean()"
   ]
  },
  {
   "cell_type": "markdown",
   "metadata": {},
   "source": [
    "## Prognose für die nächsten 6 Quartale"
   ]
  },
  {
   "cell_type": "code",
   "execution_count": null,
   "metadata": {},
   "outputs": [],
   "source": [
    "periods_forcast = range(0,6)\n",
    "x = forecast = decomposition.forecast(12)\n",
    "\n",
    "forecast = pd.DataFrame({'Periode':periods_forcast, 'OOS-Forecast': np.exp(x[6:])})\n",
    "forecast.head(6)"
   ]
  },
  {
   "cell_type": "code",
   "execution_count": null,
   "metadata": {},
   "outputs": [],
   "source": [
    "forecast['OOS-Forecast'].plot()"
   ]
  }
 ],
 "metadata": {
  "kernelspec": {
   "display_name": "Python 3",
   "language": "python",
   "name": "python3"
  },
  "language_info": {
   "codemirror_mode": {
    "name": "ipython",
    "version": 3
   },
   "file_extension": ".py",
   "mimetype": "text/x-python",
   "name": "python",
   "nbconvert_exporter": "python",
   "pygments_lexer": "ipython3",
   "version": "3.7.3"
  }
 },
 "nbformat": 4,
 "nbformat_minor": 2
}
