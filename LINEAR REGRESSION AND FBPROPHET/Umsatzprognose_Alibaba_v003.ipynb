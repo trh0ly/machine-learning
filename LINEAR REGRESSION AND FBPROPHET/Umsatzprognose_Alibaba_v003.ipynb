{
 "cells": [
  {
   "cell_type": "markdown",
   "metadata": {},
   "source": [
    "# Erstellen einer Umsatzprognose"
   ]
  },
  {
   "cell_type": "markdown",
   "metadata": {},
   "source": [
    "© Thomas Robert Holy 2019\n",
    "<br>\n",
    "Version 0.0.1\n",
    "<br><br>\n",
    "Visit me on GitHub: https://github.com/trh0ly"
   ]
  },
  {
   "cell_type": "markdown",
   "metadata": {},
   "source": [
    "## Import Packages"
   ]
  },
  {
   "cell_type": "code",
   "execution_count": null,
   "metadata": {},
   "outputs": [],
   "source": [
    "#----------------\n",
    "# Web Scrap\n",
    "from urllib.request import urlopen\n",
    "from bs4 import BeautifulSoup\n",
    "import requests\n",
    "import re\n",
    "import string\n",
    "\n",
    "#----------------\n",
    "# Regression\n",
    "import numpy as np\n",
    "import pandas as pd\n",
    "from sklearn.model_selection import train_test_split\n",
    "from sklearn.linear_model import LinearRegression\n",
    "from sklearn.metrics import mean_squared_error\n",
    "from sklearn.pipeline import Pipeline\n",
    "from sklearn.preprocessing import PolynomialFeatures\n",
    "\n",
    "#----------------\n",
    "# Prognose-Tool\n",
    "from fbprophet import Prophet\n",
    "\n",
    "#----------------\n",
    "# Verschiedenes\n",
    "import matplotlib.pyplot as plt\n",
    "import matplotlib.patches as mpatches\n",
    "import numpy as np\n",
    "import pandas as pd\n",
    "import datetime"
   ]
  },
  {
   "cell_type": "code",
   "execution_count": null,
   "metadata": {},
   "outputs": [],
   "source": [
    "%%javascript\n",
    "IPython.OutputArea.auto_scroll_threshold = 9999;"
   ]
  },
  {
   "cell_type": "code",
   "execution_count": null,
   "metadata": {},
   "outputs": [],
   "source": [
    "from IPython.core.display import display, HTML\n",
    "display(HTML(\"<style>.container { width:100% !important; }</style>\"))\n",
    "pd.set_option('display.width', 350)"
   ]
  },
  {
   "cell_type": "markdown",
   "metadata": {},
   "source": [
    "## Definition einer Hilfsfunktion zum plotten"
   ]
  },
  {
   "cell_type": "code",
   "execution_count": null,
   "metadata": {},
   "outputs": [],
   "source": [
    "def make_plot(model, X, y):\n",
    "\n",
    "    plt.rcParams['figure.figsize'] = (32, 16) # macht die Plots größer\n",
    "    plt.scatter(X, y,  color='gray', label='Wahrer Wert') # Scatterplot mit wahren Werten erstellen  \n",
    "    plt.scatter(X, pred, color='red', label='Prognostizierter Wert') # Scatterplot mit prognostizierten Werten erstellen  \n",
    "    line = np.linspace(X.min(), X.max(), 1000).reshape(-1, 1) # Datenpunkte erzeugen für das Modell\n",
    "    plt.plot(line, model.predict(line), color='green', label='Modell') # Plotten des Modells\n",
    "    # Beschriften\n",
    "    plt.title('Umsatzprognose')  \n",
    "    plt.xlabel('Verstrichene Zeiteinheiten (Quartale)')  \n",
    "    plt.ylabel('Umsatz (in $)')\n",
    "    plt.legend(loc='upper left')\n",
    "    plt.show()"
   ]
  },
  {
   "cell_type": "markdown",
   "metadata": {},
   "source": [
    "## Datenbeschaffung und Manipulation"
   ]
  },
  {
   "cell_type": "markdown",
   "metadata": {},
   "source": [
    "### Web Scrap historischer Daten von Statista"
   ]
  },
  {
   "cell_type": "code",
   "execution_count": null,
   "metadata": {},
   "outputs": [],
   "source": [
    "\"\"\"\n",
    "#url = 'https://www.statista.com/statistics/273963/quarterly-revenue-of-amazoncom/' # Amazon\n",
    "#url = 'https://www.statista.com/statistics/263427/apples-net-income-since-first-quarter-2005/' # Apple\n",
    "url = 'https://www.statista.com/statistics/323046/alibaba-quarterly-group-revenue/' # Alibaba\n",
    "\n",
    "html = requests.get(url)\n",
    "soup = BeautifulSoup(html.text, 'lxml')\n",
    "\n",
    "chart = soup.find(\"tbody\")\n",
    "children = chart.find_all(\"tr\")\n",
    "\n",
    "data = []\n",
    "for tag in children:\n",
    "    data_tuple = (tag.text[:6],tag.text[6:])\n",
    "    data.append(data_tuple)\n",
    "\n",
    "quartals, revenues = [], []\n",
    "for i in range(0, len(data)):\n",
    "    x = data[i][0]\n",
    "    y = data[i][1]\n",
    "    quartal = x.replace(' ', '')\n",
    "    y = y.replace(',', '.')\n",
    "    revenue = float(y)\n",
    "    quartals.append(quartal)\n",
    "    revenues.append(revenue)\n",
    "\n",
    "quartals = quartals[::-1]\n",
    "revenues = revenues[::-1]\n",
    "print(quartals)\n",
    "print(revenues)\n",
    "\"\"\""
   ]
  },
  {
   "cell_type": "markdown",
   "metadata": {},
   "source": [
    "### DataFrame mit den Daten erzeugen und Überprüfen"
   ]
  },
  {
   "cell_type": "code",
   "execution_count": null,
   "metadata": {},
   "outputs": [],
   "source": [
    "#----------------------------------------\n",
    "# Daten als Array manuell gespeichert \n",
    "\n",
    "\"\"\"\n",
    "#-----------------------\n",
    "# Amazon\n",
    "\n",
    "quartals = [\"Q1'07\", \"Q2'07\", \"Q3'07\", \"Q4'07\", \"Q1'08\", \"Q2'08\", \"Q3'08\", \"Q4'08\", \"Q1'09\", \"Q2'09\",\n",
    "            \"Q3'09\", \"Q4'09\", \"Q1'10\", \"Q2'10\", \"Q3'10\", \"Q4'10\", \"Q1'11\", \"Q2'11\", \"Q3'11\", \"Q4'11\",\n",
    "            \"Q1'12\", \"Q2'12\", \"Q3'12\", \"Q4'12\", \"Q1'13\", \"Q2'13\", \"Q3'13\", \"Q4'13\", \"Q1'14\", \"Q2'14\",\n",
    "            \"Q3'14\", \"Q4'14\", \"Q1'15\", \"Q2'15\", \"Q3'15\", \"Q4'15\", \"Q1'16\", \"Q2'16\", \"Q3'16\", \"Q4'16\",\n",
    "            \"Q1'17\", \"Q2'17\", \"Q3'17\", \"Q4'17\", \"Q1'18\", \"Q2'18\", \"Q3'18\", \"Q4'18\", \"Q1'19\", \"Q2'19\"]\n",
    "\n",
    "revenues = [3.02, 2.89, 3.26, 5.67, 4.14, 4.06, 4.26, 6.7, 4.89, 4.65, 5.45, 9.52, 7.13, 6.57, 7.56,\n",
    "            12.95, 9.86, 9.91, 10.88, 17.43, 13.19, 12.83, 13.81, 21.27, 16.07, 15.7, 17.09, 25.59,\n",
    "            19.74, 19.34, 20.58, 29.33, 22.72, 23.19, 25.36, 35.75, 29.13, 30.4, 32.71, 43.74, 35.71,\n",
    "            37.96, 43.74, 60.5, 51.04, 52.89, 56.58, 72.38, 59.7, 63.4]\n",
    "\n",
    "\"\"\"\n",
    "#-----------------------\n",
    "# Alibaba Group\n",
    "\n",
    "quartals = [\"Q2'13\", \"Q3'13\", \"Q4'13\", \"Q1'14\", \"Q2'14\", \"Q3'14\", \"Q4'14\", \"Q1'15\", \"Q2'15\", \"Q3'15\", \"Q4'15\",\n",
    "            \"Q1'16\", \"Q2'16\", \"Q3'16\", \"Q4'16\", \"Q1'17\", \"Q2'17\", \"Q3'17\", \"Q4'17\", \"Q1'18\", \"Q2'18\", \"Q3'18\",\n",
    "            \"Q4'18\", \"Q1'19\", \"Q2'19\"]\n",
    "\n",
    "revenues = [10.778, 10.95, 18.745, 12.031, 15.771, 16.829, 26.179, 17.425, 20.245, 22.171, 34.543, 24.184, 32.154,\n",
    "            34.292, 53.248, 38.579, 50.184, 55.122, 83.028, 61.932, 80.92, 85.148, 117.278, 93.498, 114.924]\n",
    "revenues = [x * 0.13 for x in revenues] # Wechselkurs Yuan <-> Euro 16.11.2019\n",
    "\n",
    "\"\"\"\n",
    "#-----------------------\n",
    "# Apple\n",
    "\n",
    "quartals = [\"Q1'05\", \"Q2'05\", \"Q3'05\", \"Q4'05\", \"Q1'06\", \"Q2'06\", \"Q3'06\", \"Q4'06\", \"Q1'07\", \"Q2'07\", \"Q3'07\",\n",
    "            \"Q4'07\", \"Q1'08\", \"Q2'08\", \"Q3'08\", \"Q4'08\", \"Q1'09\", \"Q2'09\", \"Q3'09\", \"Q4'09\", \"Q1'10\", \"Q2'10\",\n",
    "            \"Q3'10\", \"Q4'10\", \"Q1'11\", \"Q2'11\", \"Q3'11\", \"Q4'11\", \"Q1'12\", \"Q2'12\", \"Q3'12\", \"Q4'12\", \"Q1'13\",\n",
    "            \"Q2'13\", \"Q3'13\", \"Q4'13\", \"Q1'14\", \"Q2'14\", \"Q3'14\", \"Q4'14\", \"Q1'15\", \"Q2'15\", \"Q3'15\", \"Q4'15\",\n",
    "            \"Q1'16\", \"Q2'16\", \"Q3'16\", \"Q4'16\", \"Q1'17\", \"Q2'17\", \"Q3'17\", \"Q4'17\", \"Q1'18\", \"Q2'18\", \"Q3'18\",\n",
    "            \"Q4'18\", \"Q1'19\", \"Q2'19\", \"Q3'19\", \"Q4'19\"]\n",
    "\n",
    "revenues = [0.3, 0.29, 0.32, 0.43, 0.57, 0.41, 0.47, 0.55, 1.01, 0.77, 0.84, 0.87, 1.64, 1.1, 1.13, 2.25, 2.26,\n",
    "            1.62, 1.82, 2.53, 3.38, 3.07, 3.25, 4.31, 6.0, 5.99, 7.31, 6.62, 13.06, 11.62, 8.82, 8.22, 13.1, 9.55,\n",
    "            6.9, 7.5, 13.07, 10.22, 7.75, 8.47, 18.02, 13.57, 10.68, 11.12, 18.36, 10.52, 7.8, 9.01, 17.89, 11.03,\n",
    "            8.72, 10.71, 20.07, 13.82, 11.52, 14.13, 19.97, 11.56, 10.04, 13.69]\n",
    "\"\"\"\n",
    "\n",
    "print(len(quartals))\n",
    "print(len(revenues))\n",
    "\n",
    "#----------------------------------------\n",
    "# Logarithmus anwenden\n",
    "revenues = np.log(revenues)\n",
    "\n",
    "#----------------------------------------\n",
    "# Quartale umbenennen \n",
    "quartals_new = []\n",
    "for i in quartals:\n",
    "    x = '20' + str(i[3:])\n",
    "    y = i[:2]\n",
    "    z = str(x) + '-' + str(y)\n",
    "    quartals_new.append(z)\n",
    "    \n",
    "#----------------------------------------\n",
    "# DataFrame mit bereinigten Daten erzeugen\n",
    "original_data = pd.DataFrame({'Periode':quartals_new, 'Umsatz':np.exp(revenues)})\n",
    "original_data['Periode'] = pd.to_datetime(original_data['Periode'].str.replace(r'(Q\\d) (\\d+)', r'\\2-\\1'), errors='coerce')\n",
    "print(original_data.isnull().sum())\n",
    "original_data.tail(8)"
   ]
  },
  {
   "cell_type": "markdown",
   "metadata": {},
   "source": [
    "## Einfache Lineare Regression"
   ]
  },
  {
   "cell_type": "markdown",
   "metadata": {},
   "source": [
    "### Ausgabgsdaten definieren"
   ]
  },
  {
   "cell_type": "code",
   "execution_count": null,
   "metadata": {},
   "outputs": [],
   "source": [
    "#----------------------------------------\n",
    "# DataFrame mit bereinigten Daten und alternativen Periodenkennung erzeugen\n",
    "periods = range(1,(len(revenues) + 1))\n",
    "data_lin = pd.DataFrame({'Periode':periods, 'Umsatz':revenues})\n",
    "data_lin.tail(8)"
   ]
  },
  {
   "cell_type": "markdown",
   "metadata": {},
   "source": [
    "### Modell auf historische Daten fitten, Beta-Koeffizient, Intercept und MSE berechnen"
   ]
  },
  {
   "cell_type": "code",
   "execution_count": null,
   "metadata": {},
   "outputs": [],
   "source": [
    "# Auswahl und Trainig des Modells aus Basis des Datensatzes\n",
    "model_lin_x1 = LinearRegression()\n",
    "model_lin_x1.fit(data_lin.drop('Umsatz',axis='columns'),data_lin.Umsatz)\n",
    "\n",
    "#----------------------------------------\n",
    "# Anwendung des trainierten Modells auf die Ausgangsdaten und Berechnung des MSE zur\n",
    "# Bestimmung der Prognosegüte\n",
    "pred = model_lin_x1.predict(data_lin.drop('Umsatz',axis='columns'))\n",
    "mse = mean_squared_error(data_lin['Umsatz'], pred)\n",
    "print(\"Mean squared error of linear regression model: %.6f \\n\" % mse)\n",
    "\n",
    "#----------------------------------------\n",
    "# Ausgabe des Intercepts und der Koeffizienten des Modells\n",
    "print('Koeffizienten des Modells: \\n' + str(model_lin_x1.coef_) + '\\n')\n",
    "print('Intercept des Modells: ' + str(model_lin_x1.intercept_))\n",
    "\n",
    "#----------------------------------------\n",
    "# Bestimmtheitsmaß berechnen\n",
    "x_ = data_lin['Periode']\n",
    "x_reshaped = x_.values.reshape(-1, 1) \n",
    "y_ = data_lin['Umsatz']\n",
    "print('Train Data R^2: {}'.format(model_lin_x1.score(x_reshaped, y_)))"
   ]
  },
  {
   "cell_type": "markdown",
   "metadata": {},
   "source": [
    "### Ploten der originalen historsichen Daten und geschätzen Daten"
   ]
  },
  {
   "cell_type": "code",
   "execution_count": null,
   "metadata": {},
   "outputs": [],
   "source": [
    "make_plot(model_lin_x1, data_lin.drop('Umsatz',axis='columns'), data_lin.Umsatz)  # plotten der Ergebnisse"
   ]
  },
  {
   "cell_type": "markdown",
   "metadata": {},
   "source": [
    "## Multivariate lineare Regression"
   ]
  },
  {
   "cell_type": "markdown",
   "metadata": {},
   "source": [
    "### Definition Funktion für ein multivariates Regressionsmodell"
   ]
  },
  {
   "cell_type": "code",
   "execution_count": null,
   "metadata": {},
   "outputs": [],
   "source": [
    "def regression(n, data):\n",
    "  \n",
    "    #--------------------------------\n",
    "    # Erstellen einer Pipeline, die für die Prognose verwendet wird\n",
    "    prediction_pipe = Pipeline([   \n",
    "                                ('add_x_square', PolynomialFeatures(degree=n)), # degree wird von der for-Schleife gesetzt\n",
    "                                ('linear_regression', LinearRegression())])  \n",
    "    #--------------------------------\n",
    "    # Trainiertes Modell auf die Ausgangsdaten anwenden \n",
    "    prediction_pipe.fit(data.drop('Umsatz',axis='columns'), data.Umsatz)\n",
    "    pred = prediction_pipe.predict(data.drop('Umsatz',axis='columns'))\n",
    "    \n",
    "    #--------------------------------\n",
    "    # MSE berechnen\n",
    "    mse = mean_squared_error(data['Umsatz'], pred)\n",
    "    print(\"Mean squared error (i=%d): %.7f\" % (n, mse))\n",
    "    \n",
    "    #----------------------------------------\n",
    "    # Bestimmtheitsmaß berechnen\n",
    "    x_ = data['Periode']\n",
    "    x_reshaped = x_.values.reshape(-1, 1) \n",
    "    y_ = data['Umsatz']\n",
    "    r_square = prediction_pipe.score(x_reshaped, y_)\n",
    "    print('Train Data R^2: {} \\n'.format(r_square))        \n",
    "    #--------------------------------------------------------------------\n",
    "    \n",
    "    return mse, r_square, prediction_pipe"
   ]
  },
  {
   "cell_type": "markdown",
   "metadata": {},
   "source": [
    "### Ausführung der Funktion \"regression\" in einer For-Schleife und Dokumentation von MSE und $R^2$\n",
    "- 0 = Einfache lineare Regression\n",
    "<br>\n",
    "- 1 = Regressionsmodell mit den erklärenden Variablen X, X^2\n",
    "<br>\n",
    "- 2 = Regressionsmodell mit den erklärenden Variablen X bis X^3\n",
    "<br>\n",
    "- ...\n",
    "<br>\n",
    "- n = Regressionsmodell mit den erklärenden Variablen X bis X^(n+1)"
   ]
  },
  {
   "cell_type": "code",
   "execution_count": null,
   "metadata": {},
   "outputs": [],
   "source": [
    "#--------------------------------\n",
    "# Zwei leere Listen anlegen \n",
    "\n",
    "mse_liste = []\n",
    "r_squared_liste = []\n",
    "\n",
    "#--------------------------------\n",
    "# Die For-Schleife\n",
    "\n",
    "for i in range(1, 10):\n",
    "    mse, r_squared, _  = regression(i, data_lin)\n",
    "    mse_liste.append(mse)\n",
    "    r_squared_liste.append(r_squared)\n",
    "\n",
    "#--------------------------------\n",
    "# Ausgabe der Berechnungen\n",
    "print('Es wurden folgende MSEs berechnet:\\n{}'.format(mse_liste))\n",
    "print('Der kleinste MSE hat den Index {} (d.h. {} Degrees) und beträgt {}. \\n'.format(np.argmin(mse_liste), int(np.argmin(mse_liste) + 1), min(mse_liste)))\n",
    "print('Es wurden folgende R^2 berechnet:\\n{}'.format(r_squared_liste))\n",
    "print('Das größte R^2 hat den Index {} (d.h. {} Degrees) und beträgt {}.'.format(np.argmax(r_squared_liste), int(np.argmax(r_squared_liste) + 1), max(r_squared_liste)))\n",
    "best_fit = (np.argmax(r_squared_liste) + 1)"
   ]
  },
  {
   "cell_type": "markdown",
   "metadata": {},
   "source": [
    "### Run des Modells mit dem kleinsten MSE ($X^9$)  / größten $R^2$ "
   ]
  },
  {
   "cell_type": "code",
   "execution_count": null,
   "metadata": {},
   "outputs": [],
   "source": [
    "_, _, model_x8 = regression(best_fit, data_lin)\n",
    "pred = model_x8.predict(data_lin.drop('Umsatz',axis='columns'))\n",
    "\n",
    "#--------------------------------\n",
    "# DataFrame mit prognostizierten Umsätzen erzeugen\n",
    "\n",
    "periods = range(1,len(quartals) + 1)\n",
    "blank_revenue = [0] * len(quartals)\n",
    "table_model_x8 = pd.DataFrame({'Perioden':periods, 'Umsatz':np.exp(pred)})\n",
    "print(table_model_x8.tail(8))\n",
    "\n",
    "make_plot(model_x8, data_lin.drop('Umsatz',axis='columns'), data_lin.Umsatz) # plotten der Ergebnisse"
   ]
  },
  {
   "cell_type": "markdown",
   "metadata": {},
   "source": [
    "### Durchführung einer Umsatzprognose auf Basis des Modells"
   ]
  },
  {
   "cell_type": "code",
   "execution_count": null,
   "metadata": {},
   "outputs": [],
   "source": [
    "#--------------------------------\n",
    "# DataFrame ab Periode 39 erzeugen\n",
    "\n",
    "periods = range(len(quartals) + 1, len(quartals) + 11)\n",
    "blank_revenue = [0] * 10\n",
    "pred_table_model_x8 = pd.DataFrame({'Perioden':periods, 'Umsatz':blank_revenue})\n",
    "\n",
    "#--------------------------------------------------------------------\n",
    "# Prognose auf Basis des Modells\n",
    "\n",
    "pred = model_x8.predict(pred_table_model_x8.drop('Umsatz',axis='columns'))\n",
    "pred_table_model_x8['Umsatz'] = np.exp(pred)\n",
    "print(pred_table_model_x8)\n",
    "\n",
    "#--------------------------------\n",
    "# Plotten des prognostizierten Umsatzverlaufes \n",
    "\n",
    "plt.plot(pred_table_model_x8.Perioden, pred_table_model_x8.Umsatz)\n",
    "plt.title(\"Amazon Revenues\")\n",
    "plt.show()"
   ]
  },
  {
   "cell_type": "markdown",
   "metadata": {},
   "source": [
    "### Alternatives Modell"
   ]
  },
  {
   "cell_type": "code",
   "execution_count": null,
   "metadata": {},
   "outputs": [],
   "source": [
    "_, _, model_x4 = regression(3, data_lin)\n",
    "pred = model_x4.predict(data_lin.drop('Umsatz',axis='columns'))\n",
    "\n",
    "#--------------------------------\n",
    "# DataFrame mit prognostizierten Umsätzen erzeugen\n",
    "\n",
    "periods = range(1,len(quartals) + 1)\n",
    "blank_revenue = [0] * len(quartals)\n",
    "table_model_x4 = pd.DataFrame({'Perioden':periods, 'Umsatz':np.exp(pred)})\n",
    "print(table_model_x4.tail(8))\n",
    "make_plot(model_x4, data_lin.drop('Umsatz',axis='columns'), data_lin.Umsatz) # plotten der Ergebnisse\n",
    "\n",
    "#--------------------------------\n",
    "# DataFrame ab Periode 39 erzeugen\n",
    "\n",
    "\"\"\"\n",
    "# Ohne 4. Quartal\n",
    "periods = range(39,45)\n",
    "\"\"\"\n",
    "\n",
    "periods = range(len(quartals) + 1, len(quartals) + 11)\n",
    "blank_revenue = [0] * 10\n",
    "pred_table_model_x4 = pd.DataFrame({'Perioden':periods, 'Umsatz':blank_revenue})\n",
    "\n",
    "#--------------------------------------------------------------------\n",
    "# Prognose auf Basis des Modells\n",
    "\n",
    "pred = model_x4.predict(pred_table_model_x4.drop('Umsatz',axis='columns'))\n",
    "pred_table_model_x4['Umsatz'] = np.exp(pred)\n",
    "print(pred_table_model_x4)\n",
    "\n",
    "#--------------------------------\n",
    "# Plotten des prognostizierten Umsatzverlaufes \n",
    "\n",
    "plt.plot(pred_table_model_x4.Perioden, pred_table_model_x4.Umsatz)\n",
    "plt.title(\"Amazon Revenues\")\n",
    "plt.show()"
   ]
  },
  {
   "cell_type": "markdown",
   "metadata": {},
   "source": [
    "## Analyse von Zeitreihen mit Prophet"
   ]
  },
  {
   "cell_type": "markdown",
   "metadata": {},
   "source": [
    "### Ausgangsdaten (sicherheitshalber) inkl. des 4. Quartals neu definieren"
   ]
  },
  {
   "cell_type": "code",
   "execution_count": null,
   "metadata": {},
   "outputs": [],
   "source": [
    "#----------------------------------------\n",
    "# DataFrame erzeugen\n",
    "\n",
    "prophet_data = pd.DataFrame({'Periode':quartals_new, 'Umsatz':revenues})\n",
    "prophet_data['Periode'] = pd.to_datetime(prophet_data['Periode'].str.replace(r'(Q\\d) (\\d+)', r'\\2-\\1'), errors='coerce')\n",
    "prophet_data.tail()"
   ]
  },
  {
   "cell_type": "markdown",
   "metadata": {},
   "source": [
    "### DataFrame für Prophet interpretierbar machen und Verlauf plotten"
   ]
  },
  {
   "cell_type": "code",
   "execution_count": null,
   "metadata": {},
   "outputs": [],
   "source": [
    "#----------------------------------------\n",
    "# Spalten umbenennen\n",
    "\n",
    "df = prophet_data[['Periode','Umsatz']]\n",
    "df.columns = ['ds','y']\n",
    "print(df.tail(10))\n",
    "\n",
    "#----------------------------------------\n",
    "# Plott generieren\n",
    "plt.plot(df.ds, df.y)\n",
    "plt.title(\"Amazon Revenues\")\n",
    "plt.show()"
   ]
  },
  {
   "cell_type": "markdown",
   "metadata": {},
   "source": [
    "### Datensatz in Test- und Trainingsdatensatz unterteilen und Modell auf Trainings-Daten fitten"
   ]
  },
  {
   "cell_type": "code",
   "execution_count": null,
   "metadata": {},
   "outputs": [],
   "source": [
    "#----------------------------------------\n",
    "# Test-Datensatz\n",
    "future = df.tail(6)\n",
    "future = future.drop('y', axis=1)\n",
    "\n",
    "#----------------------------------------\n",
    "# Trainings-Datensatz\n",
    "df.drop(df.tail(6).index,inplace=True)\n",
    "\n",
    "#----------------------------------------\n",
    "# Fitten des Modells auf die Trainingsdaten\n",
    "prophet_model = Prophet(weekly_seasonality=False, daily_seasonality=False)\n",
    "prophet_model.add_seasonality(name='quartal', period=365.25/4, fourier_order=10)\n",
    "#prophet_model.add_seasonality(name='quarterly', period=1, fourier_order=10)\n",
    "prophet_model.fit(df)"
   ]
  },
  {
   "cell_type": "markdown",
   "metadata": {},
   "source": [
    "### Forecast erzeugen und plotten"
   ]
  },
  {
   "cell_type": "code",
   "execution_count": null,
   "metadata": {},
   "outputs": [],
   "source": [
    "forecast = prophet_model.predict(future)\n",
    "\n",
    "#----------------------------------------\n",
    "# Plotten\n",
    "prophet_model.plot(forecast)\n",
    "plt.title(\"Time Series Forecasting with Prophet\")\n",
    "plt.show()"
   ]
  },
  {
   "cell_type": "markdown",
   "metadata": {},
   "source": [
    "### Modellkomponenten betrachten"
   ]
  },
  {
   "cell_type": "code",
   "execution_count": null,
   "metadata": {},
   "outputs": [],
   "source": [
    "prophet_model.plot_components(forecast);"
   ]
  },
  {
   "cell_type": "code",
   "execution_count": null,
   "metadata": {},
   "outputs": [],
   "source": [
    "forecast[['ds', 'yhat', 'yhat_lower', 'yhat_upper']]"
   ]
  },
  {
   "cell_type": "code",
   "execution_count": null,
   "metadata": {},
   "outputs": [],
   "source": [
    "#----------------------------------------\n",
    "# Forecast DataFrame und Original-DataFrame \n",
    "\n",
    "dfForecast = forecast[['ds', 'yhat', 'yhat_lower', 'yhat_upper']]\n",
    "yActual = prophet_data.tail(6)['Umsatz'].values.tolist()\n",
    "yPredicted = dfForecast['yhat'].values.tolist()\n",
    "\n",
    "#----------------------------------------\n",
    "# Plot Prognose vs. Original\n",
    "\n",
    "plt.plot(dfForecast.ds,yActual, color='red') # Rot\n",
    "plt.plot(dfForecast.ds,yPredicted, color='green') # Grün\n",
    "green_patch = mpatches.Patch(color='green', label='Forecast') \n",
    "red_patch = mpatches.Patch(color='red', label='Historisch') \n",
    "plt.legend(handles=[green_patch, red_patch])\n",
    "plt.title(\"Forecasted Value vs Actuals\")\n",
    "plt.show()"
   ]
  },
  {
   "cell_type": "markdown",
   "metadata": {},
   "source": [
    "### Durchführung einer Umsatzprognose auf Basis des Modells"
   ]
  },
  {
   "cell_type": "code",
   "execution_count": null,
   "metadata": {},
   "outputs": [],
   "source": [
    "position = (len(quartals) - 8)\n",
    "position_item = quartals[position]\n",
    "position_quartal = position_item[:2]\n",
    "#print(position_item)\n",
    "#print(position_quartal)\n",
    "position_item_year = int(position_item[3:])\n",
    "\n",
    "#----------------------------------------\n",
    "# Quatal-Liste erzeugen und Forecast-DataFrame erzeugen\n",
    "\n",
    "counter = 0\n",
    "future_quartals = []\n",
    "ending = np.array(['Q1','Q2','Q3','Q4'])\n",
    "position_item_quartal = np.argwhere(ending == position_quartal)[0][0]\n",
    "#print(position_item_quartal)\n",
    "for i in range(position_item_year, position_item_year + 6): \n",
    "    for q in ending:\n",
    "        x = '20' + str(i)\n",
    "        z = str(x) + '-' + str(q)\n",
    "        future_quartals.append(z)\n",
    "future_quartals = future_quartals[position_item_quartal:]\n",
    "#print(future_quartals)\n",
    "\n",
    "#----------------------------------------\n",
    "# DataFrame für die Perioden ab 2019-Q3 erstellen\n",
    "df_predict = pd.DataFrame({'ds':future_quartals})\n",
    "df_predict['ds'] = pd.to_datetime(df_predict['ds'].str.replace(r'(Q\\d) (\\d+)', r'\\2-\\1'), errors='coerce')\n",
    "\n",
    "#--------------------------------------------------------------------\n",
    "# Prognose für \"future_quartals\" erstellen und dem \"df_predict\"-DataFrame anfügen\n",
    "forecast = prophet_model.predict(df_predict)\n",
    "df_predict['Pred'] = np.exp(forecast['yhat'])\n",
    "\n",
    "#----------------------------------------\n",
    "# Daten zusammentragen\n",
    "original_data_values = original_data['Umsatz'][len(original_data)-8:].values.tolist()\n",
    "df_predict_values = df_predict['Pred'][:8].values.tolist()\n",
    "model_x4_values = table_model_x4['Umsatz'][len(original_data)-8:].values.tolist()\n",
    "model_x8_values = table_model_x8['Umsatz'][len(original_data)-8:].values.tolist()\n",
    "#----------------\n",
    "#print(original_data[len(original_data)-8:])\n",
    "#print(df_predict[:8])\n",
    "#print(table_model_x4[len(original_data)-8:])\n",
    "#print(table_model_x8[len(original_data)-8:])\n",
    "\n",
    "#--------------------------------------------------------------------\n",
    "# Originaldaten als Vergleich\n",
    "compare_df = pd.DataFrame({'ds':future_quartals[:8]})\n",
    "compare_df['ds'] = pd.to_datetime(compare_df['ds'].str.replace(r'(Q\\d) (\\d+)', r'\\2-\\1'), errors='coerce')\n",
    "compare_df['y_original'] = original_data_values\n",
    "compare_df['y_Prophet'] = df_predict_values\n",
    "compare_df['y_lin_reg_4-degree'] = model_x4_values\n",
    "compare_df['y_lin_reg_8-degree'] = model_x8_values\n",
    "compare_df['PctChg'] = round(((compare_df.y_original - compare_df.y_Prophet) / compare_df.y_original * 100), 2)\n",
    "print(compare_df)\n",
    "\n",
    "#----------------------------------------\n",
    "# Plotten des Forecasts\n",
    "\n",
    "prophet_model.plot(forecast)\n",
    "plt.plot()\n",
    "plt.title(\"Time Series Forecasting with Prophet\")\n",
    "plt.show()"
   ]
  },
  {
   "cell_type": "markdown",
   "metadata": {},
   "source": [
    "### Umsatzprognose für die nächsten Qurtale auf Basis des besten Modells"
   ]
  },
  {
   "cell_type": "code",
   "execution_count": null,
   "metadata": {},
   "outputs": [],
   "source": [
    "df_predict[8:]"
   ]
  }
 ],
 "metadata": {
  "kernelspec": {
   "display_name": "Python 3",
   "language": "python",
   "name": "python3"
  },
  "language_info": {
   "codemirror_mode": {
    "name": "ipython",
    "version": 3
   },
   "file_extension": ".py",
   "mimetype": "text/x-python",
   "name": "python",
   "nbconvert_exporter": "python",
   "pygments_lexer": "ipython3",
   "version": "3.7.3"
  }
 },
 "nbformat": 4,
 "nbformat_minor": 2
}
