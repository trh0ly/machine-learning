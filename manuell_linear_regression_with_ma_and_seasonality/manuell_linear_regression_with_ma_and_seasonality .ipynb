{
 "cells": [
  {
   "cell_type": "markdown",
   "metadata": {},
   "source": [
    "# Erstellen einer Umsatzprognose\n",
    "© Thomas Robert Holy 2019\n",
    "<br>\n",
    "Version 0.0.1\n",
    "<br><br>\n",
    "Visit me on GitHub: https://github.com/trh0ly"
   ]
  },
  {
   "cell_type": "markdown",
   "metadata": {},
   "source": [
    "## Grundlegende Einstellungen"
   ]
  },
  {
   "cell_type": "markdown",
   "metadata": {},
   "source": [
    "### Package Import"
   ]
  },
  {
   "cell_type": "code",
   "execution_count": 1,
   "metadata": {},
   "outputs": [],
   "source": [
    "import matplotlib.pyplot as plt\n",
    "%matplotlib inline  \n",
    "import matplotlib.patches as mpatches\n",
    "import numpy as np\n",
    "import pandas as pd\n",
    "import math"
   ]
  },
  {
   "cell_type": "markdown",
   "metadata": {},
   "source": [
    "### Optikeinstellungen"
   ]
  },
  {
   "cell_type": "code",
   "execution_count": 2,
   "metadata": {},
   "outputs": [
    {
     "data": {
      "application/javascript": [
       "IPython.OutputArea.auto_scroll_threshold = 9999;\n"
      ],
      "text/plain": [
       "<IPython.core.display.Javascript object>"
      ]
     },
     "metadata": {},
     "output_type": "display_data"
    }
   ],
   "source": [
    "%%javascript\n",
    "IPython.OutputArea.auto_scroll_threshold = 9999;"
   ]
  },
  {
   "cell_type": "code",
   "execution_count": 3,
   "metadata": {},
   "outputs": [
    {
     "data": {
      "text/html": [
       "<style>.container { width:100% !important; }</style>"
      ],
      "text/plain": [
       "<IPython.core.display.HTML object>"
      ]
     },
     "metadata": {},
     "output_type": "display_data"
    }
   ],
   "source": [
    "from IPython.core.display import display, HTML\n",
    "display(HTML(\"<style>.container { width:100% !important; }</style>\"))\n",
    "pd.set_option('display.width', 350)\n",
    "plt.rcParams['figure.figsize'] = (12, 6) # macht die Plots größer"
   ]
  },
  {
   "cell_type": "markdown",
   "metadata": {},
   "source": [
    "## Datensatz und Datensatzmanipulation"
   ]
  },
  {
   "cell_type": "code",
   "execution_count": 4,
   "metadata": {},
   "outputs": [
    {
     "name": "stdout",
     "output_type": "stream",
     "text": [
      "50\n",
      "50\n"
     ]
    },
    {
     "data": {
      "text/html": [
       "<div>\n",
       "<style scoped>\n",
       "    .dataframe tbody tr th:only-of-type {\n",
       "        vertical-align: middle;\n",
       "    }\n",
       "\n",
       "    .dataframe tbody tr th {\n",
       "        vertical-align: top;\n",
       "    }\n",
       "\n",
       "    .dataframe thead th {\n",
       "        text-align: right;\n",
       "    }\n",
       "</style>\n",
       "<table border=\"1\" class=\"dataframe\">\n",
       "  <thead>\n",
       "    <tr style=\"text-align: right;\">\n",
       "      <th></th>\n",
       "      <th>Revs</th>\n",
       "      <th>Quart</th>\n",
       "    </tr>\n",
       "  </thead>\n",
       "  <tbody>\n",
       "    <tr>\n",
       "      <td>0</td>\n",
       "      <td>3.02</td>\n",
       "      <td>1</td>\n",
       "    </tr>\n",
       "    <tr>\n",
       "      <td>1</td>\n",
       "      <td>2.89</td>\n",
       "      <td>2</td>\n",
       "    </tr>\n",
       "    <tr>\n",
       "      <td>2</td>\n",
       "      <td>3.26</td>\n",
       "      <td>3</td>\n",
       "    </tr>\n",
       "    <tr>\n",
       "      <td>3</td>\n",
       "      <td>5.67</td>\n",
       "      <td>4</td>\n",
       "    </tr>\n",
       "    <tr>\n",
       "      <td>4</td>\n",
       "      <td>4.14</td>\n",
       "      <td>5</td>\n",
       "    </tr>\n",
       "  </tbody>\n",
       "</table>\n",
       "</div>"
      ],
      "text/plain": [
       "   Revs  Quart\n",
       "0  3.02      1\n",
       "1  2.89      2\n",
       "2  3.26      3\n",
       "3  5.67      4\n",
       "4  4.14      5"
      ]
     },
     "execution_count": 4,
     "metadata": {},
     "output_type": "execute_result"
    }
   ],
   "source": [
    "#-----------------------\n",
    "# Amazon\n",
    "\n",
    "quartals = [\"Q1'07\", \"Q2'07\", \"Q3'07\", \"Q4'07\", \"Q1'08\", \"Q2'08\", \"Q3'08\", \"Q4'08\", \"Q1'09\", \"Q2'09\",\n",
    "            \"Q3'09\", \"Q4'09\", \"Q1'10\", \"Q2'10\", \"Q3'10\", \"Q4'10\", \"Q1'11\", \"Q2'11\", \"Q3'11\", \"Q4'11\",\n",
    "            \"Q1'12\", \"Q2'12\", \"Q3'12\", \"Q4'12\", \"Q1'13\", \"Q2'13\", \"Q3'13\", \"Q4'13\", \"Q1'14\", \"Q2'14\",\n",
    "            \"Q3'14\", \"Q4'14\", \"Q1'15\", \"Q2'15\", \"Q3'15\", \"Q4'15\", \"Q1'16\", \"Q2'16\", \"Q3'16\", \"Q4'16\",\n",
    "            \"Q1'17\", \"Q2'17\", \"Q3'17\", \"Q4'17\", \"Q1'18\", \"Q2'18\", \"Q3'18\", \"Q4'18\", \"Q1'19\", \"Q2'19\"]\n",
    "\n",
    "revenues = [3.02, 2.89, 3.26, 5.67, 4.14, 4.06, 4.26, 6.7, 4.89, 4.65, 5.45, 9.52, 7.13, 6.57, 7.56,\n",
    "            12.95, 9.86, 9.91, 10.88, 17.43, 13.19, 12.83, 13.81, 21.27, 16.07, 15.7, 17.09, 25.59,\n",
    "            19.74, 19.34, 20.58, 29.33, 22.72, 23.19, 25.36, 35.75, 29.13, 30.4, 32.71, 43.74, 35.71,\n",
    "            37.96, 43.74, 60.5, 51.04, 52.89, 56.58, 72.38, 59.7, 63.4]\n",
    "\n",
    "print(len(quartals))\n",
    "print(len(revenues))\n",
    "\n",
    "#-----------------------\n",
    "# DataFrame erstellen\n",
    "\n",
    "rev_DF = pd.DataFrame({'Revs':revenues, 'Quart':range(1,len(revenues) + 1)})\n",
    "rev_DF.head()"
   ]
  },
  {
   "cell_type": "markdown",
   "metadata": {},
   "source": [
    "### DataFrame plotten"
   ]
  },
  {
   "cell_type": "code",
   "execution_count": 5,
   "metadata": {},
   "outputs": [
    {
     "data": {
      "text/plain": [
       "<matplotlib.axes._subplots.AxesSubplot at 0x1431f4ce788>"
      ]
     },
     "execution_count": 5,
     "metadata": {},
     "output_type": "execute_result"
    },
    {
     "data": {
      "image/png": "[encoded data removed]",
      "text/plain": [
       "<Figure size 864x576 with 1 Axes>"
      ]
     },
     "metadata": {
      "needs_background": "light"
     },
     "output_type": "display_data"
    }
   ],
   "source": [
    "rev_DF.Revs.plot(figsize=(12,8), title= 'Revenues', fontsize=10)"
   ]
  },
  {
   "cell_type": "markdown",
   "metadata": {},
   "source": [
    "## Definition einige Hilfsfunktionen"
   ]
  },
  {
   "cell_type": "markdown",
   "metadata": {},
   "source": [
    "### Moving-Average"
   ]
  },
  {
   "cell_type": "code",
   "execution_count": 6,
   "metadata": {},
   "outputs": [],
   "source": [
    "def moving_average(k, array, weights=None):\n",
    "    \n",
    "    if weights == None:\n",
    "        z_liste = []\n",
    "        for i in range(k, len(array) - k):\n",
    "            x = (i - k)\n",
    "            y = (i + k + 1)\n",
    "            z = np.mean(array[x:y])\n",
    "            z_liste.append(z)\n",
    "            \n",
    "    if weights != None:\n",
    "        z_liste, temp_liste = [], []\n",
    "        for i in range(k, len(array) - k):\n",
    "            x = (i - k)\n",
    "            y = (i + k + 1)\n",
    "            temp = array[x:y]\n",
    "            temp_liste.append(temp)\n",
    "            \n",
    "        for i in temp_liste:\n",
    "            for j in range(0, len(i)):\n",
    "                i[j] = i[j] * weights[j]\n",
    "            \n",
    "        for i in temp_liste:\n",
    "            i = np.mean(i)\n",
    "            z_liste.append(i)\n",
    "                   \n",
    "    return z_liste    "
   ]
  },
  {
   "cell_type": "markdown",
   "metadata": {},
   "source": [
    "### $\\Delta t, \\Delta z$ und $\\Delta t \\Delta z$"
   ]
  },
  {
   "cell_type": "code",
   "execution_count": 7,
   "metadata": {},
   "outputs": [],
   "source": [
    "#-----------------------\n",
    "# Delta t\n",
    "\n",
    "def delta_t(t_array):\n",
    "    mean_t = np.mean(t_array)\n",
    "    \n",
    "    delta_t_list = []\n",
    "    for i in range(0, len(t_array)):\n",
    "        delta_t = t_array[i] - mean_t\n",
    "        delta_t_list.append(delta_t)\n",
    "        \n",
    "    delta_t_power_liste = []\n",
    "    for i in delta_t_list:\n",
    "        delta_t_power = np.power(i,2)\n",
    "        delta_t_power_liste.append(delta_t_power)\n",
    "        \n",
    "    sum_delta_t_power_liste = np.sum(delta_t_power_liste)\n",
    "    \n",
    "    return delta_t_list, delta_t_power_liste, sum_delta_t_power_liste\n",
    "\n",
    "#-----------------------\n",
    "# Delta z\n",
    "\n",
    "def delta_z(z_array, exp=False):\n",
    "    mean_z = np.mean(z_array)\n",
    "    \n",
    "    if exp == False:\n",
    "        delta_z_list = []\n",
    "        for i in range(0, len(z_array)):\n",
    "            delta_z = z_array[i] - mean_z\n",
    "            delta_z_list.append(delta_z)\n",
    "            \n",
    "    if exp == True:\n",
    "        delta_z_list = []\n",
    "        for i in range(0, len(z_array)):\n",
    "            delta_z = np.log(z_array[i]) - np.log(mean_z)\n",
    "            delta_z_list.append(delta_z)\n",
    "                 \n",
    "    return delta_z_list\n",
    "\n",
    "#-----------------------\n",
    "# Delta t Delta z\n",
    "\n",
    "def delta_z__delta_t(delta_t_list, delta_z_list):\n",
    "    \n",
    "    delta_zt_liste = []\n",
    "    for i in range(0, len(delta_t_list)):\n",
    "        delta_zt = delta_t_list[i] * delta_z_list[i]\n",
    "        delta_zt_liste.append(delta_zt)        \n",
    "    \n",
    "    sum_delta_zt_liste = np.sum(delta_zt_liste)\n",
    "    \n",
    "    return delta_zt_liste, sum_delta_zt_liste"
   ]
  },
  {
   "cell_type": "markdown",
   "metadata": {},
   "source": [
    "### Berechnung $a$ und $b$"
   ]
  },
  {
   "cell_type": "code",
   "execution_count": 8,
   "metadata": {},
   "outputs": [],
   "source": [
    "def calc_ab(z_array, t_array, delta_zt_liste, sum_delta_t_power_liste):\n",
    "    \n",
    "    mean_z = np.mean(z_array)\n",
    "    mean_t = np.mean(t_array)\n",
    "       \n",
    "    b = sum_delta_zt_liste / sum_delta_t_power_liste    \n",
    "    a = mean_z - b * mean_t\n",
    "    \n",
    "    return a, b"
   ]
  },
  {
   "cell_type": "markdown",
   "metadata": {},
   "source": [
    "### Prognose"
   ]
  },
  {
   "cell_type": "code",
   "execution_count": 9,
   "metadata": {},
   "outputs": [],
   "source": [
    "def predict(a, b, array, exp=False):\n",
    "    \n",
    "    if exp == False:\n",
    "        prediction_list = []\n",
    "        for i in range(0, len(array)):\n",
    "            prediction = a + b * array[i]\n",
    "            prediction_list.append(prediction)\n",
    "            \n",
    "    if exp == True:\n",
    "        prediction_list = []\n",
    "        for i in range(0, len(array)):\n",
    "            prediction = np.exp(a) * math.exp((b * array[i]))\n",
    "            prediction_list.append(prediction) \n",
    "        \n",
    "    return prediction_list"
   ]
  },
  {
   "cell_type": "markdown",
   "metadata": {},
   "source": [
    "### Bestimmtheitsmaß"
   ]
  },
  {
   "cell_type": "code",
   "execution_count": 10,
   "metadata": {},
   "outputs": [],
   "source": [
    "def r_power(z_array, prediction_list):\n",
    "    \n",
    "    mean_z = np.mean(z_array)\n",
    "    \n",
    "    a_list, b_list = [], []\n",
    "    for i in range(0, len(z_array)):\n",
    "        a = np.power((prediction_list[i] - mean_z), 2)\n",
    "        a_list.append(a)\n",
    "        \n",
    "        b = np.power((z_array[i] - mean_z), 2)\n",
    "        b_list.append(b)\n",
    "        \n",
    "    sum_a_list = np.sum(a_list)\n",
    "    sum_b_list = np.sum(b_list)\n",
    "    \n",
    "    r_power = sum_a_list / sum_b_list\n",
    "    \n",
    "    return r_power"
   ]
  },
  {
   "cell_type": "markdown",
   "metadata": {},
   "source": [
    "## Schrittweise Berechnung - Einfache lineare Regression"
   ]
  },
  {
   "cell_type": "markdown",
   "metadata": {},
   "source": [
    "### $\\Delta t$ und Summe $\\Delta t$"
   ]
  },
  {
   "cell_type": "code",
   "execution_count": 11,
   "metadata": {},
   "outputs": [],
   "source": [
    "t_array = rev_DF.Quart.values.tolist()\n",
    "\n",
    "delta_t_list, delta_t_power_liste, sum_delta_t_power_liste = delta_t(t_array)\n",
    "#print(delta_t_list, delta_t_power_liste, sum_delta_t_power_liste)"
   ]
  },
  {
   "cell_type": "markdown",
   "metadata": {},
   "source": [
    "### $\\Delta z$ und Summe $\\Delta z$"
   ]
  },
  {
   "cell_type": "code",
   "execution_count": 12,
   "metadata": {},
   "outputs": [],
   "source": [
    "z_array = rev_DF.Revs.values.tolist()\n",
    "\n",
    "delta_z_list = delta_z(z_array)\n",
    "#delta_z_list"
   ]
  },
  {
   "cell_type": "markdown",
   "metadata": {},
   "source": [
    "### $\\Delta t \\Delta z$ und Summe $\\Delta t \\Delta z$"
   ]
  },
  {
   "cell_type": "code",
   "execution_count": 13,
   "metadata": {},
   "outputs": [],
   "source": [
    "delta_zt_liste, sum_delta_zt_liste = delta_z__delta_t(delta_t_list, delta_z_list)\n",
    "#print(delta_zt_liste, sum_delta_zt_liste)"
   ]
  },
  {
   "cell_type": "markdown",
   "metadata": {},
   "source": [
    "### Parameter $a$ und $b$"
   ]
  },
  {
   "cell_type": "code",
   "execution_count": 14,
   "metadata": {},
   "outputs": [
    {
     "name": "stdout",
     "output_type": "stream",
     "text": [
      "1.186005282112845 -7.398334693877551\n"
     ]
    }
   ],
   "source": [
    "a, b = calc_ab(z_array, t_array, delta_zt_liste, sum_delta_t_power_liste)\n",
    "print(b, a)"
   ]
  },
  {
   "cell_type": "markdown",
   "metadata": {},
   "source": [
    "### Prognosewerte für die 1. bis letzte Periode"
   ]
  },
  {
   "cell_type": "code",
   "execution_count": 15,
   "metadata": {},
   "outputs": [],
   "source": [
    "#prediction_for_list = range(1,13)\n",
    "prediction_for_list = range(1,len(revenues) + 1)\n",
    "\n",
    "prediction_list = predict(a, b, prediction_for_list)\n",
    "#prediction_list"
   ]
  },
  {
   "cell_type": "markdown",
   "metadata": {},
   "source": [
    "### DataFrame-Erweiterung und plotten der Prognosewerte"
   ]
  },
  {
   "cell_type": "code",
   "execution_count": 16,
   "metadata": {},
   "outputs": [],
   "source": [
    "rev_DF['Pred'] = prediction_list"
   ]
  },
  {
   "cell_type": "code",
   "execution_count": 17,
   "metadata": {},
   "outputs": [
    {
     "data": {
      "image/png": "[encoded data removed]",
      "text/plain": [
       "<Figure size 864x432 with 1 Axes>"
      ]
     },
     "metadata": {
      "needs_background": "light"
     },
     "output_type": "display_data"
    }
   ],
   "source": [
    "orig = plt.plot(rev_DF.Revs, color='blue', label='Original')\n",
    "pred = plt.plot(rev_DF.Pred, color='red', label='Pred')\n",
    "plt.legend(loc='best')\n",
    "plt.title('Original vs. Pred')\n",
    "plt.show()"
   ]
  },
  {
   "cell_type": "markdown",
   "metadata": {},
   "source": [
    "### Bestimmtheitsmaß berechnen"
   ]
  },
  {
   "cell_type": "code",
   "execution_count": 18,
   "metadata": {},
   "outputs": [
    {
     "data": {
      "text/plain": [
       "0.8568745095957687"
      ]
     },
     "execution_count": 18,
     "metadata": {},
     "output_type": "execute_result"
    }
   ],
   "source": [
    "r = r_power(z_array, prediction_list)\n",
    "r"
   ]
  },
  {
   "cell_type": "markdown",
   "metadata": {},
   "source": [
    "## Schrittweise Berechnung unter Berücksichtigung nicht-linearer Zusammenhänge"
   ]
  },
  {
   "cell_type": "markdown",
   "metadata": {},
   "source": [
    "### $\\Delta t$ und Summe $\\Delta t$"
   ]
  },
  {
   "cell_type": "code",
   "execution_count": 19,
   "metadata": {},
   "outputs": [],
   "source": [
    "t_array = rev_DF.Quart.values.tolist()\n",
    "\n",
    "delta_t_list, delta_t_power_liste, sum_delta_t_power_liste = delta_t(t_array)\n",
    "#print(delta_t_list, delta_t_power_liste, sum_delta_t_power_liste)"
   ]
  },
  {
   "cell_type": "markdown",
   "metadata": {},
   "source": [
    "### $\\Delta z$ und Summe $\\Delta z$"
   ]
  },
  {
   "cell_type": "code",
   "execution_count": 20,
   "metadata": {},
   "outputs": [],
   "source": [
    "z_array = rev_DF.Revs.values.tolist()\n",
    "#z_array = np.log(z_array)\n",
    "\n",
    "delta_z_list = delta_z(z_array, exp=True)\n",
    "#delta_z_list"
   ]
  },
  {
   "cell_type": "markdown",
   "metadata": {},
   "source": [
    "### $\\Delta t \\Delta z$ und Summe $\\Delta t \\Delta z$"
   ]
  },
  {
   "cell_type": "code",
   "execution_count": 21,
   "metadata": {},
   "outputs": [],
   "source": [
    "delta_zt_liste, sum_delta_zt_liste = delta_z__delta_t(delta_t_list, delta_z_list)\n",
    "#print(delta_zt_liste, sum_delta_zt_liste)"
   ]
  },
  {
   "cell_type": "markdown",
   "metadata": {},
   "source": [
    "### Parameter $a$ und $b$"
   ]
  },
  {
   "cell_type": "code",
   "execution_count": 22,
   "metadata": {},
   "outputs": [
    {
     "name": "stdout",
     "output_type": "stream",
     "text": [
      "0.06184618332291243 1.1837146521242945\n"
     ]
    }
   ],
   "source": [
    "a, b = calc_ab(np.log(z_array), t_array, delta_zt_liste, sum_delta_t_power_liste)\n",
    "print(b, a)"
   ]
  },
  {
   "cell_type": "markdown",
   "metadata": {},
   "source": [
    "### Prognosewerte für die 1. bis letze Periode"
   ]
  },
  {
   "cell_type": "code",
   "execution_count": 23,
   "metadata": {},
   "outputs": [],
   "source": [
    "#prediction_for_list = range(1,13)\n",
    "prediction_for_list = range(1,len(revenues) + 1)\n",
    "z_array = z_array\n",
    "\n",
    "prediction_list_exp = predict(a, b, prediction_for_list, exp=True)\n",
    "#prediction_list_exp"
   ]
  },
  {
   "cell_type": "markdown",
   "metadata": {},
   "source": [
    "### DataFrame-Erweiterung und plotten der Prognosewerte"
   ]
  },
  {
   "cell_type": "code",
   "execution_count": 24,
   "metadata": {},
   "outputs": [],
   "source": [
    "rev_DF['Pred_exp'] = prediction_list_exp"
   ]
  },
  {
   "cell_type": "code",
   "execution_count": 25,
   "metadata": {},
   "outputs": [
    {
     "data": {
      "image/png": "[encoded data removed]",
      "text/plain": [
       "<Figure size 864x432 with 1 Axes>"
      ]
     },
     "metadata": {
      "needs_background": "light"
     },
     "output_type": "display_data"
    }
   ],
   "source": [
    "orig = plt.plot(rev_DF.Revs, color='blue', label='Original')\n",
    "pred = plt.plot(rev_DF.Pred_exp, color='red', label='Pred')\n",
    "plt.legend(loc='best')\n",
    "plt.title('Original vs. Pred_exp')\n",
    "plt.show()"
   ]
  },
  {
   "cell_type": "markdown",
   "metadata": {},
   "source": [
    "### Bestimmtheitsmaß berechnen"
   ]
  },
  {
   "cell_type": "code",
   "execution_count": 26,
   "metadata": {},
   "outputs": [
    {
     "data": {
      "text/plain": [
       "1.0631618997382584"
      ]
     },
     "execution_count": 26,
     "metadata": {},
     "output_type": "execute_result"
    }
   ],
   "source": [
    "r = r_power(z_array, prediction_list_exp)\n",
    "r"
   ]
  },
  {
   "cell_type": "markdown",
   "metadata": {},
   "source": [
    "## Weitere Verbesserungen\n",
    "### Definition weiterer Hilfsfunktionen\n",
    "#### Berechnung des Residuums zwischen Moving-Average und Beobachtung"
   ]
  },
  {
   "cell_type": "code",
   "execution_count": 27,
   "metadata": {},
   "outputs": [],
   "source": [
    "def calc_residual(rev, moving_average_list):\n",
    "    \n",
    "    cut_len = len(rev) - len(moving_average_list)\n",
    "    start = int(cut_len / 2)\n",
    "    end = int(len(rev) - cut_len / 2)    \n",
    "    rev = rev[start:end]\n",
    "    \n",
    "    residual_list = []\n",
    "    for i in range(0, len(rev)):\n",
    "        residuum = rev[i] - moving_average_list[i]\n",
    "        residual_list.append(residuum)\n",
    "        \n",
    "    return residual_list    "
   ]
  },
  {
   "cell_type": "markdown",
   "metadata": {},
   "source": [
    "#### Berechnung mittlere quartalsweise Sainsonkopmponente"
   ]
  },
  {
   "cell_type": "code",
   "execution_count": 28,
   "metadata": {},
   "outputs": [],
   "source": [
    "def get_seasonal_components(residual_list):\n",
    "    \n",
    "    quartal_1_list = []\n",
    "    for i in range(0, len(residual_list), 4):\n",
    "        quartal_1_list.append(residual_list[i])\n",
    "     \n",
    "    quartal_2_list = []\n",
    "    for i in range(1, len(residual_list), 4):\n",
    "        quartal_2_list.append(residual_list[i])\n",
    "     \n",
    "    quartal_3_list = []\n",
    "    for i in range(2, len(residual_list), 4):\n",
    "        quartal_3_list.append(residual_list[i])\n",
    "     \n",
    "    quartal_4_list = []\n",
    "    for i in range(3, len(residual_list), 4):\n",
    "        quartal_4_list.append(residual_list[i])\n",
    "        \n",
    "    seasonal_component_quartal_1 = np.mean(quartal_1_list)\n",
    "    seasonal_component_quartal_2 = np.mean(quartal_2_list)\n",
    "    seasonal_component_quartal_3 = np.mean(quartal_3_list)\n",
    "    seasonal_component_quartal_4 = np.mean(quartal_4_list)\n",
    "    \n",
    "    seasonal_components_list = [seasonal_component_quartal_1, seasonal_component_quartal_2,\n",
    "                               seasonal_component_quartal_3, seasonal_component_quartal_4] * int(len(residual_list) / 4)\n",
    "    \n",
    "    return seasonal_components_list"
   ]
  },
  {
   "cell_type": "markdown",
   "metadata": {},
   "source": [
    "#### Verbindung Saisonkomponente und MA-Komponente"
   ]
  },
  {
   "cell_type": "code",
   "execution_count": 29,
   "metadata": {},
   "outputs": [],
   "source": [
    "def add_saison(prediction_list_MA, seasonal_components):\n",
    "    \n",
    "    ma_saison_list = []\n",
    "    for i in range(0, len(prediction_list_MA)):\n",
    "        x = prediction_list_MA[i] + seasonal_components[i]\n",
    "        ma_saison_list.append(x)\n",
    "        \n",
    "    return ma_saison_list        "
   ]
  },
  {
   "cell_type": "markdown",
   "metadata": {},
   "source": [
    "### Moving-Average als Trend"
   ]
  },
  {
   "cell_type": "code",
   "execution_count": 30,
   "metadata": {},
   "outputs": [],
   "source": [
    "k = 3\n",
    "\n",
    "moving_average_list = moving_average(k, revenues, weights=[1,0.75,1,1,1,0.6,1])\n",
    "#moving_average_list"
   ]
  },
  {
   "cell_type": "markdown",
   "metadata": {},
   "source": [
    "#### DataFrame-Erweiterung und plotten der Prognosewerte auf Basis des MA"
   ]
  },
  {
   "cell_type": "code",
   "execution_count": 31,
   "metadata": {},
   "outputs": [],
   "source": [
    "test_DF = pd.DataFrame({'Quartal':range(k,len(moving_average_list) + k ), 'Revs':moving_average_list})\n",
    "#test_DF.head()"
   ]
  },
  {
   "cell_type": "code",
   "execution_count": 32,
   "metadata": {},
   "outputs": [
    {
     "data": {
      "image/png": "[encoded data removed]",
      "text/plain": [
       "<Figure size 864x432 with 1 Axes>"
      ]
     },
     "metadata": {
      "needs_background": "light"
     },
     "output_type": "display_data"
    }
   ],
   "source": [
    "orig = plt.plot(rev_DF.Revs, color='blue', label='Original')\n",
    "pred = plt.plot(test_DF.Quartal, test_DF.Revs, color='red', label='Moving Average')\n",
    "plt.legend(loc='best')\n",
    "plt.title('Original vs. Moving Average')\n",
    "plt.show()"
   ]
  },
  {
   "cell_type": "markdown",
   "metadata": {},
   "source": [
    "#### $\\Delta t$ und Summe $\\Delta t$"
   ]
  },
  {
   "cell_type": "code",
   "execution_count": 33,
   "metadata": {},
   "outputs": [],
   "source": [
    "#t_array = test_DF.Quart.values.tolist()\n",
    "t_array = range(1, len(moving_average_list))\n",
    "\n",
    "delta_t_list, delta_t_power_liste, sum_delta_t_power_liste = delta_t(t_array)\n",
    "#print(delta_t_list, delta_t_power_liste, sum_delta_t_power_liste)"
   ]
  },
  {
   "cell_type": "markdown",
   "metadata": {},
   "source": [
    "#### $\\Delta z$ und Summe $\\Delta z$"
   ]
  },
  {
   "cell_type": "code",
   "execution_count": 34,
   "metadata": {},
   "outputs": [],
   "source": [
    "z_array = test_DF.Revs.values.tolist()\n",
    "#z_array = np.log(z_array)\n",
    "\n",
    "delta_z_list = delta_z(z_array, exp=True)\n",
    "#delta_z_list"
   ]
  },
  {
   "cell_type": "markdown",
   "metadata": {},
   "source": [
    "#### $\\Delta t \\Delta z$ und Summe $\\Delta t \\Delta z$"
   ]
  },
  {
   "cell_type": "code",
   "execution_count": 35,
   "metadata": {},
   "outputs": [],
   "source": [
    "delta_zt_liste, sum_delta_zt_liste = delta_z__delta_t(delta_t_list, delta_z_list)\n",
    "#print(delta_zt_liste, sum_delta_zt_liste)"
   ]
  },
  {
   "cell_type": "markdown",
   "metadata": {},
   "source": [
    "#### Parameter $a$ und $b$"
   ]
  },
  {
   "cell_type": "code",
   "execution_count": 36,
   "metadata": {},
   "outputs": [
    {
     "name": "stdout",
     "output_type": "stream",
     "text": [
      "0.060843189848590565 1.3542838464764335\n"
     ]
    }
   ],
   "source": [
    "a, b = calc_ab(np.log(z_array), t_array, delta_zt_liste, sum_delta_t_power_liste)\n",
    "print(b, a)"
   ]
  },
  {
   "cell_type": "markdown",
   "metadata": {},
   "source": [
    "#### Prognosewerte für die 1. bis letze Periode"
   ]
  },
  {
   "cell_type": "code",
   "execution_count": 37,
   "metadata": {},
   "outputs": [],
   "source": [
    "#prediction_for_list = range(1,13)\n",
    "prediction_for_list = range(1,len(test_DF.Revs) + 1)\n",
    "\n",
    "prediction_list_MA = predict(a, b, prediction_for_list, exp=True)\n",
    "#prediction_list_MA"
   ]
  },
  {
   "cell_type": "markdown",
   "metadata": {},
   "source": [
    "#### DataFrame-Erweiterung und plotten der Prognosewerte  auf Basis MA"
   ]
  },
  {
   "cell_type": "code",
   "execution_count": 38,
   "metadata": {},
   "outputs": [],
   "source": [
    "test_DF['Pred_MA'] = prediction_list_MA"
   ]
  },
  {
   "cell_type": "code",
   "execution_count": 39,
   "metadata": {},
   "outputs": [
    {
     "data": {
      "image/png": "[encoded data removed]",
      "text/plain": [
       "<Figure size 864x432 with 1 Axes>"
      ]
     },
     "metadata": {
      "needs_background": "light"
     },
     "output_type": "display_data"
    }
   ],
   "source": [
    "orig = plt.plot(rev_DF.Revs, color='blue', label='Original')\n",
    "pred = plt.plot(test_DF.Quartal, test_DF.Pred_MA, color='red', label='Pred')\n",
    "plt.legend(loc='best')\n",
    "plt.title('Original vs. Pred_MA')\n",
    "plt.show()"
   ]
  },
  {
   "cell_type": "markdown",
   "metadata": {},
   "source": [
    "### Hinzufügen der Saisonkomponente"
   ]
  },
  {
   "cell_type": "markdown",
   "metadata": {},
   "source": [
    "#### Residuen berechnen"
   ]
  },
  {
   "cell_type": "code",
   "execution_count": 40,
   "metadata": {},
   "outputs": [],
   "source": [
    "residual_list = calc_residual(revenues, moving_average_list)\n",
    "#residual_list"
   ]
  },
  {
   "cell_type": "markdown",
   "metadata": {},
   "source": [
    "#### Saisonkomponenten berechnen"
   ]
  },
  {
   "cell_type": "code",
   "execution_count": 41,
   "metadata": {},
   "outputs": [],
   "source": [
    "seasonal_components = get_seasonal_components(residual_list)\n",
    "#seasonal_components"
   ]
  },
  {
   "cell_type": "markdown",
   "metadata": {},
   "source": [
    "#### Saisonkomponente auf Moving-Average draufrechnen"
   ]
  },
  {
   "cell_type": "code",
   "execution_count": 42,
   "metadata": {},
   "outputs": [],
   "source": [
    "ma_saison_list = add_saison(prediction_list_MA, seasonal_components)\n",
    "#ma_saison_list"
   ]
  },
  {
   "cell_type": "markdown",
   "metadata": {},
   "source": [
    "#### DataFrame-Erweiterung und plotten der Prognosewerte auf Basis MA + Saisonkomponente"
   ]
  },
  {
   "cell_type": "code",
   "execution_count": 43,
   "metadata": {},
   "outputs": [],
   "source": [
    "test_DF['Pred_MA_Sasion'] = ma_saison_list"
   ]
  },
  {
   "cell_type": "code",
   "execution_count": 44,
   "metadata": {},
   "outputs": [
    {
     "data": {
      "image/png": "[encoded data removed]",
      "text/plain": [
       "<Figure size 864x432 with 1 Axes>"
      ]
     },
     "metadata": {
      "needs_background": "light"
     },
     "output_type": "display_data"
    }
   ],
   "source": [
    "orig = plt.plot(rev_DF.Revs, color='blue', label='Original')\n",
    "pred = plt.plot(test_DF.Quartal, test_DF.Pred_MA_Sasion, color='red', label='Pred')\n",
    "plt.legend(loc='best')\n",
    "plt.title('Original vs. Pred_MA')\n",
    "plt.show()"
   ]
  },
  {
   "cell_type": "markdown",
   "metadata": {},
   "source": [
    "### Bestimmtheitsmaß berechnen"
   ]
  },
  {
   "cell_type": "code",
   "execution_count": 45,
   "metadata": {},
   "outputs": [
    {
     "data": {
      "text/plain": [
       "0.9438841841147938"
      ]
     },
     "execution_count": 45,
     "metadata": {},
     "output_type": "execute_result"
    }
   ],
   "source": [
    "z_array = rev_DF.Revs.values.tolist()\n",
    "z_array = z_array[3:len(z_array) - 3]\n",
    "\n",
    "r = r_power(z_array, ma_saison_list)\n",
    "r"
   ]
  },
  {
   "cell_type": "markdown",
   "metadata": {},
   "source": [
    "## Prognose"
   ]
  },
  {
   "cell_type": "code",
   "execution_count": 46,
   "metadata": {},
   "outputs": [],
   "source": [
    "prediction_for_list2 = range(1,55 + 1)\n",
    "prediction_list_MA2 = predict(a, b, prediction_for_list2, exp=True)\n",
    "#prediction_list_MA2"
   ]
  },
  {
   "cell_type": "code",
   "execution_count": 47,
   "metadata": {},
   "outputs": [],
   "source": [
    "seasonal_components2 = seasonal_components[0:4] * 15\n",
    "seasonal_components2 = seasonal_components2[0:len(prediction_list_MA2)]\n",
    "#seasonal_components2"
   ]
  },
  {
   "cell_type": "code",
   "execution_count": 48,
   "metadata": {},
   "outputs": [
    {
     "data": {
      "text/plain": [
       "[86.21478869722732,\n",
       " 91.7737013845832,\n",
       " 104.59136733620113,\n",
       " 103.6782034564838,\n",
       " 109.98132607718922]"
      ]
     },
     "execution_count": 48,
     "metadata": {},
     "output_type": "execute_result"
    }
   ],
   "source": [
    "ma_saison_list2 = add_saison(prediction_list_MA2, seasonal_components2)\n",
    "ma_saison_list2[50:]"
   ]
  },
  {
   "cell_type": "code",
   "execution_count": 49,
   "metadata": {},
   "outputs": [
    {
     "data": {
      "image/png": "[encoded data removed]",
      "text/plain": [
       "<Figure size 864x432 with 1 Axes>"
      ]
     },
     "metadata": {
      "needs_background": "light"
     },
     "output_type": "display_data"
    }
   ],
   "source": [
    "#orig = plt.plot(rev_DF.Revs, color='blue', label='Original')\n",
    "pred = plt.plot(prediction_for_list2, ma_saison_list2, color='red', label='Pred')\n",
    "plt.legend(loc='best')\n",
    "plt.title('Original vs. Pred_MA')\n",
    "plt.show()"
   ]
  }
 ],
 "metadata": {
  "kernelspec": {
   "display_name": "Python 3",
   "language": "python",
   "name": "python3"
  },
  "language_info": {
   "codemirror_mode": {
    "name": "ipython",
    "version": 3
   },
   "file_extension": ".py",
   "mimetype": "text/x-python",
   "name": "python",
   "nbconvert_exporter": "python",
   "pygments_lexer": "ipython3",
   "version": "3.7.4"
  }
 },
 "nbformat": 4,
 "nbformat_minor": 2
}
