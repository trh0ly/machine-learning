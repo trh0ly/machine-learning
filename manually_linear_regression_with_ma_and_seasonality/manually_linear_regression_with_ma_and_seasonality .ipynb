{
 "cells": [
  {
   "cell_type": "markdown",
   "metadata": {},
   "source": [
    "# Erstellen einer Umsatzprognose\n",
    "© Thomas Robert Holy 2019\n",
    "<br>\n",
    "Version 0.0.2\n",
    "<br><br>\n",
    "Visit me on GitHub: https://github.com/trh0ly"
   ]
  },
  {
   "cell_type": "markdown",
   "metadata": {},
   "source": [
    "## Grundlegende Einstellungen"
   ]
  },
  {
   "cell_type": "markdown",
   "metadata": {},
   "source": [
    "### Package Import"
   ]
  },
  {
   "cell_type": "code",
   "execution_count": null,
   "metadata": {},
   "outputs": [],
   "source": [
    "import matplotlib.pyplot as plt\n",
    "%matplotlib inline  \n",
    "import matplotlib.patches as mpatches\n",
    "import numpy as np\n",
    "import pandas as pd\n",
    "import math"
   ]
  },
  {
   "cell_type": "markdown",
   "metadata": {},
   "source": [
    "### Optikeinstellungen"
   ]
  },
  {
   "cell_type": "code",
   "execution_count": null,
   "metadata": {},
   "outputs": [],
   "source": [
    "%%javascript\n",
    "IPython.OutputArea.auto_scroll_threshold = 9999;"
   ]
  },
  {
   "cell_type": "code",
   "execution_count": null,
   "metadata": {},
   "outputs": [],
   "source": [
    "from IPython.core.display import display, HTML\n",
    "display(HTML(\"<style>.container { width:100% !important; }</style>\"))\n",
    "pd.set_option('display.width', 350)\n",
    "plt.rcParams['figure.figsize'] = (12, 6) # macht die Plots größer"
   ]
  },
  {
   "cell_type": "markdown",
   "metadata": {},
   "source": [
    "## Datensatz und Datensatzmanipulation"
   ]
  },
  {
   "cell_type": "code",
   "execution_count": null,
   "metadata": {},
   "outputs": [],
   "source": [
    "#-----------------------\n",
    "# Amazon\n",
    "\n",
    "quartals = [\"Q1'07\", \"Q2'07\", \"Q3'07\", \"Q4'07\", \"Q1'08\", \"Q2'08\", \"Q3'08\", \"Q4'08\", \"Q1'09\", \"Q2'09\",\n",
    "            \"Q3'09\", \"Q4'09\", \"Q1'10\", \"Q2'10\", \"Q3'10\", \"Q4'10\", \"Q1'11\", \"Q2'11\", \"Q3'11\", \"Q4'11\",\n",
    "            \"Q1'12\", \"Q2'12\", \"Q3'12\", \"Q4'12\", \"Q1'13\", \"Q2'13\", \"Q3'13\", \"Q4'13\", \"Q1'14\", \"Q2'14\",\n",
    "            \"Q3'14\", \"Q4'14\", \"Q1'15\", \"Q2'15\", \"Q3'15\", \"Q4'15\", \"Q1'16\", \"Q2'16\", \"Q3'16\", \"Q4'16\",\n",
    "            \"Q1'17\", \"Q2'17\", \"Q3'17\", \"Q4'17\", \"Q1'18\", \"Q2'18\", \"Q3'18\", \"Q4'18\", \"Q1'19\", \"Q2'19\"]\n",
    "\n",
    "revenues = [3.02, 2.89, 3.26, 5.67, 4.14, 4.06, 4.26, 6.7, 4.89, 4.65, 5.45, 9.52, 7.13, 6.57, 7.56,\n",
    "            12.95, 9.86, 9.91, 10.88, 17.43, 13.19, 12.83, 13.81, 21.27, 16.07, 15.7, 17.09, 25.59,\n",
    "            19.74, 19.34, 20.58, 29.33, 22.72, 23.19, 25.36, 35.75, 29.13, 30.4, 32.71, 43.74, 35.71,\n",
    "            37.96, 43.74, 60.5, 51.04, 52.89, 56.58, 72.38, 59.7, 63.4]\n",
    "\n",
    "print(len(quartals))\n",
    "print(len(revenues))\n",
    "\n",
    "#-----------------------\n",
    "# DataFrame erstellen\n",
    "\n",
    "rev_DF = pd.DataFrame({'Revs':revenues, 'Quart':range(1,len(revenues) + 1)})\n",
    "rev_DF.head()"
   ]
  },
  {
   "cell_type": "markdown",
   "metadata": {},
   "source": [
    "### DataFrame plotten"
   ]
  },
  {
   "cell_type": "code",
   "execution_count": null,
   "metadata": {},
   "outputs": [],
   "source": [
    "rev_DF.Revs.plot(figsize=(12,8), title= 'Revenues', fontsize=10)"
   ]
  },
  {
   "cell_type": "markdown",
   "metadata": {},
   "source": [
    "## Definition einige Hilfsfunktionen"
   ]
  },
  {
   "cell_type": "markdown",
   "metadata": {},
   "source": [
    "### Moving-Average"
   ]
  },
  {
   "cell_type": "code",
   "execution_count": null,
   "metadata": {},
   "outputs": [],
   "source": [
    "def moving_average(k, array, weights=None):\n",
    "    \n",
    "    # Keine Gewichtung von Perioden\n",
    "    if weights == None:\n",
    "        z_liste = [] # Leere Liste für MA\n",
    "        # Bestimmung MA als Mittelwert aller Elemente um i mit der Reichweite k\n",
    "        for i in range(k, len(array) - k):\n",
    "            x = (i - k) # Vorgängerposition\n",
    "            y = (i + k + 1) # Nachfolgerposition\n",
    "            z = np.mean(array[x:y]) # Mittelwert von Vorgängerposition bis Nachfolgerposition\n",
    "            z_liste.append(z) # Wert der Liste anfügen\n",
    "            \n",
    "    # Gewichtung von Perioden\n",
    "    if weights != None:\n",
    "        z_liste, temp_liste = [], [] # Leere Liste für MA und Zwischenschritt\n",
    "        # Bestimmung MA als Mittelwert aller Elemente um i mit der Reichweite k\n",
    "        for i in range(k, len(array) - k):\n",
    "            x = (i - k) # Vorgängerposition\n",
    "            y = (i + k + 1) # Nachfolgerposition\n",
    "            temp = array[x:y] # Zwischenschritt welcher alle Elementen abspeichert\n",
    "            temp_liste.append(temp) # Wert der Liste anfügen (Main-Array)\n",
    "            \n",
    "        # Für jedes Main-Array..\n",
    "        for i in temp_liste:\n",
    "            # ..Gewichtung der Elemete mit dazugehörigem Gewicht\n",
    "            for j in range(0, len(i)):\n",
    "                i[j] = i[j] * weights[j]\n",
    "            \n",
    "        # Bildung Mittelwert der gewichteten Elemente\n",
    "        for i in temp_liste:\n",
    "            i = np.mean(i)\n",
    "            z_liste.append(i)\n",
    "                   \n",
    "    return z_liste    "
   ]
  },
  {
   "cell_type": "markdown",
   "metadata": {},
   "source": [
    "### $\\Delta t, \\Delta z$ und $\\Delta t \\Delta z$"
   ]
  },
  {
   "cell_type": "code",
   "execution_count": null,
   "metadata": {},
   "outputs": [],
   "source": [
    "#-----------------------\n",
    "# Delta t\n",
    "\n",
    "def delta_t(t_array):\n",
    "\n",
    "    mean_t = np.mean(t_array) # Mittelwert der Peridoen bestimmen\n",
    "    \n",
    "    delta_t_list = []\n",
    "    # Delta t als Differenz von t und dem Mittelwert von allen t-Werten bestimmen\n",
    "    for i in range(0, len(t_array)):\n",
    "        delta_t = t_array[i] - mean_t # Differenz bilden\n",
    "        delta_t_list.append(delta_t) # Wert der Liste anfügen\n",
    "        \n",
    "    delta_t_power_liste = [] # Leere Liste anlegen\n",
    "    # Delta t^2 für jedes t bestimmen\n",
    "    for i in delta_t_list:\n",
    "        delta_t_power = np.power(i,2) # t quadrieren\n",
    "        delta_t_power_liste.append(delta_t_power) # Wert der Liste anfügen\n",
    "        \n",
    "    # Summe der quadrierten ts bestimmen\n",
    "    sum_delta_t_power_liste = np.sum(delta_t_power_liste)\n",
    "    \n",
    "    return delta_t_list, delta_t_power_liste, sum_delta_t_power_liste\n",
    "\n",
    "#-----------------------\n",
    "# Delta z\n",
    "\n",
    "def delta_z(z_array, exp=False):\n",
    "    \n",
    "    mean_z = np.mean(z_array) # Mittelwert der beobachteten Werte bestimmen\n",
    "    \n",
    "    # Wenn ein exponentieller Trend vorliegt\n",
    "    if exp == False:\n",
    "        delta_z_list = [] # Leere Liste anlegen\n",
    "        # Delta z als Differenz von z und dem Mittelwert von allen z-Werten bestimmen\n",
    "        for i in range(0, len(z_array)):\n",
    "            delta_z = z_array[i] - mean_z # Differenz bilden\n",
    "            delta_z_list.append(delta_z) # Wert der Liste anfüge\n",
    "            \n",
    "    # Wenn kein exponentieller Trend vorliegt\n",
    "    if exp == True:\n",
    "        delta_z_list = [] # Leere Liste anlegen\n",
    "        \n",
    "        # Delta z^2 für jedes z bestimmen\n",
    "        for i in range(0, len(z_array)):\n",
    "            delta_z = np.log(z_array[i]) - np.log(mean_z) # Differenz bilden\n",
    "            delta_z_list.append(delta_z) # Wert der Liste anfüge\n",
    "                 \n",
    "    return delta_z_list\n",
    "\n",
    "#-----------------------\n",
    "# Delta t Delta z\n",
    "\n",
    "def delta_z__delta_t(delta_t_list, delta_z_list):\n",
    "    \n",
    "    delta_zt_liste = []  # Leere Liste anlegen\n",
    "    # delta t mit delta z multiplizieren\n",
    "    for i in range(0, len(delta_t_list)):\n",
    "        delta_zt = delta_t_list[i] * delta_z_list[i] # delta t mit delta z multiplizieren\n",
    "        delta_zt_liste.append(delta_zt) # Wert der Liste anfüge        \n",
    "    \n",
    "    # Summe der multiplizierten Werte bestimmen\n",
    "    sum_delta_zt_liste = np.sum(delta_zt_liste)\n",
    "    \n",
    "    return delta_zt_liste, sum_delta_zt_liste"
   ]
  },
  {
   "cell_type": "markdown",
   "metadata": {},
   "source": [
    "### Berechnung $a$ und $b$"
   ]
  },
  {
   "cell_type": "code",
   "execution_count": null,
   "metadata": {},
   "outputs": [],
   "source": [
    "def calc_ab(z_array, t_array, delta_zt_liste, sum_delta_t_power_liste):\n",
    "    \n",
    "    # Mittelwerte bestimmen\n",
    "    mean_z = np.mean(z_array)\n",
    "    mean_t = np.mean(t_array)\n",
    "       \n",
    "    # Parameter a und bestimmen\n",
    "    b = sum_delta_zt_liste / sum_delta_t_power_liste # Steigung berechnen\n",
    "    a = mean_z - b * mean_t # Intercept berechnen\n",
    "    \n",
    "    return a, b"
   ]
  },
  {
   "cell_type": "markdown",
   "metadata": {},
   "source": [
    "### Prognose"
   ]
  },
  {
   "cell_type": "code",
   "execution_count": null,
   "metadata": {},
   "outputs": [],
   "source": [
    "def predict(a, b, array, exp=False):\n",
    "    \n",
    "    # Wenn kein exponentieller Trend vorliegt\n",
    "    if exp == False:\n",
    "        prediction_list = [] # Leere Liste anlegen\n",
    "        # Berechnung des zu prognostizierenden Wertes\n",
    "        for i in range(0, len(array)):\n",
    "            prediction = a + b * array[i] # Prognostizierter Wert = Intercept + Steigung * Zeitreihenwert\n",
    "            prediction_list.append(prediction) # Wert der Liste anfüge  \n",
    "            \n",
    "    # Wenn ein exponentieller Trend vorliegt\n",
    "    if exp == True:\n",
    "        prediction_list = [] # Leere Liste anlegen\n",
    "         # Berechnung des zu prognostizierenden Wertes\n",
    "        for i in range(0, len(array)):\n",
    "            prediction = np.exp(a) * math.exp((b * array[i])) # Prognostizierter Wert = Intercept + Steigung * Zeitreihenwert\n",
    "            prediction_list.append(prediction) # Wert der Liste anfüge  \n",
    "        \n",
    "    return prediction_list"
   ]
  },
  {
   "cell_type": "markdown",
   "metadata": {},
   "source": [
    "### Bestimmtheitsmaß"
   ]
  },
  {
   "cell_type": "code",
   "execution_count": null,
   "metadata": {},
   "outputs": [],
   "source": [
    "def r_power(z_array, prediction_list):\n",
    "    \n",
    "    mean_z = np.mean(z_array) # Mittelwert bestimmen\n",
    "    \n",
    "    a_list, b_list = [], [] # Leere Listen anlegen\n",
    "    # Berechnung der quadrierten Abweichungen..\n",
    "    for i in range(0, len(z_array)):\n",
    "        # Prognostizierte Werte\n",
    "        a = np.power((prediction_list[i] - mean_z), 2)\n",
    "        a_list.append(a)\n",
    "        \n",
    "        # Tatsächlich beobachtete Werte\n",
    "        b = np.power((z_array[i] - mean_z), 2)\n",
    "        b_list.append(b)\n",
    "        \n",
    "    # Summen der beiden Listen ermitteln \n",
    "    sum_a_list = np.sum(a_list)\n",
    "    sum_b_list = np.sum(b_list)\n",
    "    \n",
    "    r_power = sum_a_list / sum_b_list # Bestimmtheitsmaß berechnen\n",
    "    \n",
    "    return r_power"
   ]
  },
  {
   "cell_type": "markdown",
   "metadata": {},
   "source": [
    "## Schrittweise Berechnung - Einfache lineare Regression"
   ]
  },
  {
   "cell_type": "markdown",
   "metadata": {},
   "source": [
    "### $\\Delta t$ und Summe $\\Delta t$"
   ]
  },
  {
   "cell_type": "code",
   "execution_count": null,
   "metadata": {},
   "outputs": [],
   "source": [
    "t_array = rev_DF.Quart.values.tolist()\n",
    "\n",
    "delta_t_list, delta_t_power_liste, sum_delta_t_power_liste = delta_t(t_array)\n",
    "#print(delta_t_list, delta_t_power_liste, sum_delta_t_power_liste)"
   ]
  },
  {
   "cell_type": "markdown",
   "metadata": {},
   "source": [
    "### $\\Delta z$ und Summe $\\Delta z$"
   ]
  },
  {
   "cell_type": "code",
   "execution_count": null,
   "metadata": {},
   "outputs": [],
   "source": [
    "z_array = rev_DF.Revs.values.tolist()\n",
    "\n",
    "delta_z_list = delta_z(z_array)\n",
    "#delta_z_list"
   ]
  },
  {
   "cell_type": "markdown",
   "metadata": {},
   "source": [
    "### $\\Delta t \\Delta z$ und Summe $\\Delta t \\Delta z$"
   ]
  },
  {
   "cell_type": "code",
   "execution_count": null,
   "metadata": {},
   "outputs": [],
   "source": [
    "delta_zt_liste, sum_delta_zt_liste = delta_z__delta_t(delta_t_list, delta_z_list)\n",
    "#print(delta_zt_liste, sum_delta_zt_liste)"
   ]
  },
  {
   "cell_type": "markdown",
   "metadata": {},
   "source": [
    "### Parameter $a$ und $b$"
   ]
  },
  {
   "cell_type": "code",
   "execution_count": null,
   "metadata": {},
   "outputs": [],
   "source": [
    "a, b = calc_ab(z_array, t_array, delta_zt_liste, sum_delta_t_power_liste)\n",
    "print(b, a)"
   ]
  },
  {
   "cell_type": "markdown",
   "metadata": {},
   "source": [
    "### Prognosewerte für die 1. bis letzte Periode"
   ]
  },
  {
   "cell_type": "code",
   "execution_count": null,
   "metadata": {},
   "outputs": [],
   "source": [
    "#prediction_for_list = range(1,13)\n",
    "prediction_for_list = range(1,len(revenues) + 1)\n",
    "\n",
    "prediction_list = predict(a, b, prediction_for_list)\n",
    "#prediction_list"
   ]
  },
  {
   "cell_type": "markdown",
   "metadata": {},
   "source": [
    "### DataFrame-Erweiterung und plotten der Prognosewerte"
   ]
  },
  {
   "cell_type": "code",
   "execution_count": null,
   "metadata": {},
   "outputs": [],
   "source": [
    "rev_DF['Pred'] = prediction_list"
   ]
  },
  {
   "cell_type": "code",
   "execution_count": null,
   "metadata": {},
   "outputs": [],
   "source": [
    "orig = plt.plot(rev_DF.Revs, color='blue', label='Original')\n",
    "pred = plt.plot(rev_DF.Pred, color='red', label='Pred')\n",
    "plt.legend(loc='best')\n",
    "plt.title('Original vs. Pred')\n",
    "plt.show()"
   ]
  },
  {
   "cell_type": "markdown",
   "metadata": {},
   "source": [
    "### Bestimmtheitsmaß berechnen"
   ]
  },
  {
   "cell_type": "code",
   "execution_count": null,
   "metadata": {},
   "outputs": [],
   "source": [
    "r = r_power(z_array, prediction_list)\n",
    "r"
   ]
  },
  {
   "cell_type": "markdown",
   "metadata": {},
   "source": [
    "## Schrittweise Berechnung unter Berücksichtigung nicht-linearer Zusammenhänge"
   ]
  },
  {
   "cell_type": "markdown",
   "metadata": {},
   "source": [
    "### $\\Delta t$ und Summe $\\Delta t$"
   ]
  },
  {
   "cell_type": "code",
   "execution_count": null,
   "metadata": {},
   "outputs": [],
   "source": [
    "t_array = rev_DF.Quart.values.tolist()\n",
    "\n",
    "delta_t_list, delta_t_power_liste, sum_delta_t_power_liste = delta_t(t_array)\n",
    "#print(delta_t_list, delta_t_power_liste, sum_delta_t_power_liste)"
   ]
  },
  {
   "cell_type": "markdown",
   "metadata": {},
   "source": [
    "### $\\Delta z$ und Summe $\\Delta z$"
   ]
  },
  {
   "cell_type": "code",
   "execution_count": null,
   "metadata": {},
   "outputs": [],
   "source": [
    "z_array = rev_DF.Revs.values.tolist()\n",
    "#z_array = np.log(z_array)\n",
    "\n",
    "delta_z_list = delta_z(z_array, exp=True)\n",
    "#delta_z_list"
   ]
  },
  {
   "cell_type": "markdown",
   "metadata": {},
   "source": [
    "### $\\Delta t \\Delta z$ und Summe $\\Delta t \\Delta z$"
   ]
  },
  {
   "cell_type": "code",
   "execution_count": null,
   "metadata": {},
   "outputs": [],
   "source": [
    "delta_zt_liste, sum_delta_zt_liste = delta_z__delta_t(delta_t_list, delta_z_list)\n",
    "#print(delta_zt_liste, sum_delta_zt_liste)"
   ]
  },
  {
   "cell_type": "markdown",
   "metadata": {},
   "source": [
    "### Parameter $a$ und $b$"
   ]
  },
  {
   "cell_type": "code",
   "execution_count": null,
   "metadata": {},
   "outputs": [],
   "source": [
    "a, b = calc_ab(np.log(z_array), t_array, delta_zt_liste, sum_delta_t_power_liste)\n",
    "print(b, a)"
   ]
  },
  {
   "cell_type": "markdown",
   "metadata": {},
   "source": [
    "### Prognosewerte für die 1. bis letze Periode"
   ]
  },
  {
   "cell_type": "code",
   "execution_count": null,
   "metadata": {},
   "outputs": [],
   "source": [
    "#prediction_for_list = range(1,13)\n",
    "prediction_for_list = range(1,len(revenues) + 1)\n",
    "z_array = z_array\n",
    "\n",
    "prediction_list_exp = predict(a, b, prediction_for_list, exp=True)\n",
    "#prediction_list_exp"
   ]
  },
  {
   "cell_type": "markdown",
   "metadata": {},
   "source": [
    "### DataFrame-Erweiterung und plotten der Prognosewerte"
   ]
  },
  {
   "cell_type": "code",
   "execution_count": null,
   "metadata": {},
   "outputs": [],
   "source": [
    "rev_DF['Pred_exp'] = prediction_list_exp"
   ]
  },
  {
   "cell_type": "code",
   "execution_count": null,
   "metadata": {},
   "outputs": [],
   "source": [
    "orig = plt.plot(rev_DF.Revs, color='blue', label='Original')\n",
    "pred = plt.plot(rev_DF.Pred_exp, color='red', label='Pred')\n",
    "plt.legend(loc='best')\n",
    "plt.title('Original vs. Pred_exp')\n",
    "plt.show()"
   ]
  },
  {
   "cell_type": "markdown",
   "metadata": {},
   "source": [
    "### Bestimmtheitsmaß berechnen"
   ]
  },
  {
   "cell_type": "code",
   "execution_count": null,
   "metadata": {},
   "outputs": [],
   "source": [
    "r = r_power(z_array, prediction_list_exp)\n",
    "r"
   ]
  },
  {
   "cell_type": "markdown",
   "metadata": {},
   "source": [
    "## Weitere Verbesserungen\n",
    "### Definition weiterer Hilfsfunktionen\n",
    "#### Berechnung des Residuums zwischen Moving-Average und Beobachtung"
   ]
  },
  {
   "cell_type": "code",
   "execution_count": null,
   "metadata": {},
   "outputs": [],
   "source": [
    "def calc_residual(rev, moving_average_list):\n",
    "    \n",
    "    # Liste Revenues auf Länge des MA kürzen\n",
    "    cut_len = len(rev) - len(moving_average_list) # Differenz der Längen bestimmen\n",
    "    start = int(cut_len / 2) # Startwert bestimmen\n",
    "    end = int(len(rev) - cut_len / 2) # endwert bestimmen    \n",
    "    rev = rev[start:end] # Liste kürzen\n",
    "    \n",
    "    residual_list = [] # Leere liste anlegen\n",
    "    # Abweichung zwischen beobachteten Wert und MA berechnen\n",
    "    for i in range(0, len(rev)):\n",
    "        residuum = rev[i] - moving_average_list[i] # differenz berechnen\n",
    "        residual_list.append(residuum) # Wert der Liste anfügen\n",
    "        \n",
    "    return residual_list    "
   ]
  },
  {
   "cell_type": "markdown",
   "metadata": {},
   "source": [
    "#### Berechnung mittlere quartalsweise Sainsonkopmponente"
   ]
  },
  {
   "cell_type": "code",
   "execution_count": null,
   "metadata": {},
   "outputs": [],
   "source": [
    "def get_seasonal_components(residual_list):\n",
    "    \n",
    "    quartal_1_list = [] # Leere Liste anlegen\n",
    "    # Jedes 4. Quartal ausgehend vom ersten Quartal\n",
    "    # in der Liste speichern\n",
    "    for i in range(0, len(residual_list), 4):\n",
    "        quartal_1_list.append(residual_list[i])\n",
    "     \n",
    "    quartal_2_list = [] # Leere Liste anlegen\n",
    "    # Jedes 4. Quartal ausgehend vom zweiten Quartal\n",
    "    # in der Liste speichern\n",
    "    for i in range(1, len(residual_list), 4):\n",
    "        quartal_2_list.append(residual_list[i])\n",
    "     \n",
    "    quartal_3_list = [] # Leere Liste anlegen\n",
    "    # Jedes 4. Quartal ausgehend vom dritten Quartal\n",
    "    # in der Liste speichern\n",
    "    for i in range(2, len(residual_list), 4):\n",
    "        quartal_3_list.append(residual_list[i])\n",
    "     \n",
    "    quartal_4_list = [] # Leere Liste anlegen\n",
    "    # Jedes 4. Quartal ausgehend vom vierte Quartal\n",
    "    # in der Liste speichern\n",
    "    for i in range(3, len(residual_list), 4):\n",
    "        quartal_4_list.append(residual_list[i])\n",
    "        \n",
    "    # Mittelwerte der Listen berechnen um durchschnittliche\n",
    "    # Saisonkomponente zu bestimmen\n",
    "    seasonal_component_quartal_1 = np.mean(quartal_1_list)\n",
    "    seasonal_component_quartal_2 = np.mean(quartal_2_list)\n",
    "    seasonal_component_quartal_3 = np.mean(quartal_3_list)\n",
    "    seasonal_component_quartal_4 = np.mean(quartal_4_list)\n",
    "    \n",
    "    # Liste mit Saisonkomponenten der Länge der residual_list angleichen\n",
    "    seasonal_components_list = [seasonal_component_quartal_1, seasonal_component_quartal_2,\n",
    "                               seasonal_component_quartal_3, seasonal_component_quartal_4] * int(len(residual_list) / 4)\n",
    "    \n",
    "    return seasonal_components_list"
   ]
  },
  {
   "cell_type": "markdown",
   "metadata": {},
   "source": [
    "#### Verbindung Saisonkomponente und MA-Komponente"
   ]
  },
  {
   "cell_type": "code",
   "execution_count": null,
   "metadata": {},
   "outputs": [],
   "source": [
    "def add_saison(prediction_list_MA, seasonal_components):\n",
    "    \n",
    "    ma_saison_list = [] # Leere Liste anlegen\n",
    "    # Saisonkomponente und MA zusammenfügen\n",
    "    for i in range(0, len(prediction_list_MA)):\n",
    "        x = prediction_list_MA[i] + seasonal_components[i] # Saisonkomponente und MA addieren\n",
    "        ma_saison_list.append(x) # Wert der Liste anfügen\n",
    "        \n",
    "    return ma_saison_list        "
   ]
  },
  {
   "cell_type": "markdown",
   "metadata": {},
   "source": [
    "### Moving-Average als Trend"
   ]
  },
  {
   "cell_type": "code",
   "execution_count": null,
   "metadata": {},
   "outputs": [],
   "source": [
    "k = 3\n",
    "\n",
    "moving_average_list = moving_average(k, revenues, weights=[1,0.75,1,1,1,0.6,1])\n",
    "#moving_average_list"
   ]
  },
  {
   "cell_type": "markdown",
   "metadata": {},
   "source": [
    "#### DataFrame-Erweiterung und plotten der Prognosewerte auf Basis des MA"
   ]
  },
  {
   "cell_type": "code",
   "execution_count": null,
   "metadata": {},
   "outputs": [],
   "source": [
    "test_DF = pd.DataFrame({'Quartal':range(k,len(moving_average_list) + k ), 'Revs':moving_average_list})\n",
    "#test_DF.head()"
   ]
  },
  {
   "cell_type": "code",
   "execution_count": null,
   "metadata": {},
   "outputs": [],
   "source": [
    "orig = plt.plot(rev_DF.Revs, color='blue', label='Original')\n",
    "pred = plt.plot(test_DF.Quartal, test_DF.Revs, color='red', label='Moving Average')\n",
    "plt.legend(loc='best')\n",
    "plt.title('Original vs. Moving Average')\n",
    "plt.show()"
   ]
  },
  {
   "cell_type": "markdown",
   "metadata": {},
   "source": [
    "#### $\\Delta t$ und Summe $\\Delta t$"
   ]
  },
  {
   "cell_type": "code",
   "execution_count": null,
   "metadata": {},
   "outputs": [],
   "source": [
    "#t_array = test_DF.Quart.values.tolist()\n",
    "t_array = range(1, len(moving_average_list))\n",
    "\n",
    "delta_t_list, delta_t_power_liste, sum_delta_t_power_liste = delta_t(t_array)\n",
    "#print(delta_t_list, delta_t_power_liste, sum_delta_t_power_liste)"
   ]
  },
  {
   "cell_type": "markdown",
   "metadata": {},
   "source": [
    "#### $\\Delta z$ und Summe $\\Delta z$"
   ]
  },
  {
   "cell_type": "code",
   "execution_count": null,
   "metadata": {},
   "outputs": [],
   "source": [
    "z_array = test_DF.Revs.values.tolist()\n",
    "#z_array = np.log(z_array)\n",
    "\n",
    "delta_z_list = delta_z(z_array, exp=True)\n",
    "#delta_z_list"
   ]
  },
  {
   "cell_type": "markdown",
   "metadata": {},
   "source": [
    "#### $\\Delta t \\Delta z$ und Summe $\\Delta t \\Delta z$"
   ]
  },
  {
   "cell_type": "code",
   "execution_count": null,
   "metadata": {},
   "outputs": [],
   "source": [
    "delta_zt_liste, sum_delta_zt_liste = delta_z__delta_t(delta_t_list, delta_z_list)\n",
    "#print(delta_zt_liste, sum_delta_zt_liste)"
   ]
  },
  {
   "cell_type": "markdown",
   "metadata": {},
   "source": [
    "#### Parameter $a$ und $b$"
   ]
  },
  {
   "cell_type": "code",
   "execution_count": null,
   "metadata": {},
   "outputs": [],
   "source": [
    "a, b = calc_ab(np.log(z_array), t_array, delta_zt_liste, sum_delta_t_power_liste)\n",
    "print(b, a)"
   ]
  },
  {
   "cell_type": "markdown",
   "metadata": {},
   "source": [
    "#### Prognosewerte für die 1. bis letze Periode"
   ]
  },
  {
   "cell_type": "code",
   "execution_count": null,
   "metadata": {},
   "outputs": [],
   "source": [
    "#prediction_for_list = range(1,13)\n",
    "prediction_for_list = range(1,len(test_DF.Revs) + 1)\n",
    "\n",
    "prediction_list_MA = predict(a, b, prediction_for_list, exp=True)\n",
    "#prediction_list_MA"
   ]
  },
  {
   "cell_type": "markdown",
   "metadata": {},
   "source": [
    "#### DataFrame-Erweiterung und plotten der Prognosewerte  auf Basis MA"
   ]
  },
  {
   "cell_type": "code",
   "execution_count": null,
   "metadata": {},
   "outputs": [],
   "source": [
    "test_DF['Pred_MA'] = prediction_list_MA"
   ]
  },
  {
   "cell_type": "code",
   "execution_count": null,
   "metadata": {},
   "outputs": [],
   "source": [
    "orig = plt.plot(rev_DF.Revs, color='blue', label='Original')\n",
    "pred = plt.plot(test_DF.Quartal, test_DF.Pred_MA, color='red', label='Pred')\n",
    "plt.legend(loc='best')\n",
    "plt.title('Original vs. Pred_MA')\n",
    "plt.show()"
   ]
  },
  {
   "cell_type": "markdown",
   "metadata": {},
   "source": [
    "### Hinzufügen der Saisonkomponente"
   ]
  },
  {
   "cell_type": "markdown",
   "metadata": {},
   "source": [
    "#### Residuen berechnen"
   ]
  },
  {
   "cell_type": "code",
   "execution_count": null,
   "metadata": {},
   "outputs": [],
   "source": [
    "residual_list = calc_residual(revenues, moving_average_list)\n",
    "#residual_list"
   ]
  },
  {
   "cell_type": "markdown",
   "metadata": {},
   "source": [
    "#### Saisonkomponenten berechnen"
   ]
  },
  {
   "cell_type": "code",
   "execution_count": null,
   "metadata": {},
   "outputs": [],
   "source": [
    "seasonal_components = get_seasonal_components(residual_list)\n",
    "#seasonal_components"
   ]
  },
  {
   "cell_type": "markdown",
   "metadata": {},
   "source": [
    "#### Saisonkomponente auf Moving-Average draufrechnen"
   ]
  },
  {
   "cell_type": "code",
   "execution_count": null,
   "metadata": {},
   "outputs": [],
   "source": [
    "ma_saison_list = add_saison(prediction_list_MA, seasonal_components)\n",
    "#ma_saison_list"
   ]
  },
  {
   "cell_type": "markdown",
   "metadata": {},
   "source": [
    "#### DataFrame-Erweiterung und plotten der Prognosewerte auf Basis MA + Saisonkomponente"
   ]
  },
  {
   "cell_type": "code",
   "execution_count": null,
   "metadata": {},
   "outputs": [],
   "source": [
    "test_DF['Pred_MA_Sasion'] = ma_saison_list"
   ]
  },
  {
   "cell_type": "code",
   "execution_count": null,
   "metadata": {},
   "outputs": [],
   "source": [
    "orig = plt.plot(rev_DF.Revs, color='blue', label='Original')\n",
    "pred = plt.plot(test_DF.Quartal, test_DF.Pred_MA_Sasion, color='red', label='Pred')\n",
    "plt.legend(loc='best')\n",
    "plt.title('Original vs. Pred_MA')\n",
    "plt.show()"
   ]
  },
  {
   "cell_type": "markdown",
   "metadata": {},
   "source": [
    "### Bestimmtheitsmaß berechnen"
   ]
  },
  {
   "cell_type": "code",
   "execution_count": null,
   "metadata": {},
   "outputs": [],
   "source": [
    "z_array = rev_DF.Revs.values.tolist()\n",
    "z_array = z_array[3:len(z_array) - 3]\n",
    "\n",
    "r = r_power(z_array, ma_saison_list)\n",
    "r"
   ]
  },
  {
   "cell_type": "markdown",
   "metadata": {},
   "source": [
    "## Prognose"
   ]
  },
  {
   "cell_type": "code",
   "execution_count": null,
   "metadata": {},
   "outputs": [],
   "source": [
    "prediction_for_list2 = range(1,55 + 1)\n",
    "prediction_list_MA2 = predict(a, b, prediction_for_list2, exp=True)\n",
    "#prediction_list_MA2"
   ]
  },
  {
   "cell_type": "code",
   "execution_count": null,
   "metadata": {},
   "outputs": [],
   "source": [
    "seasonal_components2 = seasonal_components[0:4] * 15\n",
    "seasonal_components2 = seasonal_components2[0:len(prediction_list_MA2)]\n",
    "#seasonal_components2"
   ]
  },
  {
   "cell_type": "code",
   "execution_count": null,
   "metadata": {},
   "outputs": [],
   "source": [
    "ma_saison_list2 = add_saison(prediction_list_MA2, seasonal_components2)\n",
    "ma_saison_list2[50:]"
   ]
  },
  {
   "cell_type": "code",
   "execution_count": null,
   "metadata": {},
   "outputs": [],
   "source": [
    "#orig = plt.plot(rev_DF.Revs, color='blue', label='Original')\n",
    "pred = plt.plot(prediction_for_list2, ma_saison_list2, color='red', label='Pred')\n",
    "plt.legend(loc='best')\n",
    "plt.title('Original vs. Pred_MA')\n",
    "plt.show()"
   ]
  }
 ],
 "metadata": {
  "kernelspec": {
   "display_name": "Python 3",
   "language": "python",
   "name": "python3"
  },
  "language_info": {
   "codemirror_mode": {
    "name": "ipython",
    "version": 3
   },
   "file_extension": ".py",
   "mimetype": "text/x-python",
   "name": "python",
   "nbconvert_exporter": "python",
   "pygments_lexer": "ipython3",
   "version": "3.7.3"
  }
 },
 "nbformat": 4,
 "nbformat_minor": 2
}
