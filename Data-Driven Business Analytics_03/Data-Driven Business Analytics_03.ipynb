{
 "cells": [
  {
   "cell_type": "markdown",
   "metadata": {},
   "source": [
    "# 3. Projektarbeit - Regression von Häuserpreisen mittels KNN\n",
    "© Thomas Robert Holy 2020\n",
    "<br>\n",
    "Version 1.0\n",
    "<br><br>\n",
    "Visit me on GitHub: https://github.com/trh0ly\n",
    "<br>\n",
    "Kaggle Link: https://www.kaggle.com/c/dda-p3/leaderboard\n",
    "## Grundlegene Einstellungen\n",
    "### Import der Bibliotheken"
   ]
  },
  {
   "cell_type": "code",
   "execution_count": 1,
   "metadata": {},
   "outputs": [
    {
     "name": "stderr",
     "output_type": "stream",
     "text": [
      "Using TensorFlow backend.\n"
     ]
    }
   ],
   "source": [
    "\n",
    "import numpy as np\n",
    "import pandas as pd\n",
    "import matplotlib.pyplot as plt\n",
    "from sklearn.compose import ColumnTransformer\n",
    "from sklearn.preprocessing import OneHotEncoder\n",
    "from sklearn.preprocessing import LabelEncoder\n",
    "from sklearn.metrics import mean_squared_error\n",
    "from sklearn import preprocessing\n",
    "import seaborn as sns\n",
    "from keras import metrics\n",
    "import keras\n",
    "import sys\n",
    "from keras.models import Sequential\n",
    "import operator\n",
    "from keras.layers import Dense\n",
    "from keras import optimizers \n",
    "from keras import losses\n",
    "from keras import activations\n",
    "from keras.constraints import maxnorm\n",
    "from keras.wrappers.scikit_learn import KerasRegressor\n",
    "from keras.layers import BatchNormalization\n",
    "from sklearn.model_selection import KFold\n",
    "from sklearn.model_selection import GridSearchCV\n",
    "from keras.layers import Dropout\n",
    "from keras import regularizers\n",
    "from sklearn.preprocessing import RobustScaler\n",
    "from sklearn.metrics import mean_squared_error\n",
    "from sklearn.model_selection import train_test_split\n",
    "from IPython.core.display import display, HTML\n"
   ]
  },
  {
   "cell_type": "markdown",
   "metadata": {},
   "source": [
    "### Optikeinstellungen"
   ]
  },
  {
   "cell_type": "code",
   "execution_count": 2,
   "metadata": {},
   "outputs": [
    {
     "data": {
      "application/javascript": [
       "IPython.OutputArea.auto_scroll_threshold = 9999;\n"
      ],
      "text/plain": [
       "<IPython.core.display.Javascript object>"
      ]
     },
     "metadata": {},
     "output_type": "display_data"
    }
   ],
   "source": [
    "\n",
    "%%javascript\n",
    "IPython.OutputArea.auto_scroll_threshold = 9999;\n"
   ]
  },
  {
   "cell_type": "code",
   "execution_count": 3,
   "metadata": {},
   "outputs": [
    {
     "data": {
      "text/html": [
       "<style>.container { width:100% !important; }</style>"
      ],
      "text/plain": [
       "<IPython.core.display.HTML object>"
      ]
     },
     "metadata": {},
     "output_type": "display_data"
    }
   ],
   "source": [
    "\n",
    "display(HTML(\"<style>.container { width:100% !important; }</style>\"))\n",
    "pd.options.display.width = 500\n",
    "pd.options.display.max_columns = 999\n",
    "pd.options.display.max_rows = 999\n",
    "plt.rcParams['figure.figsize'] = (12, 6)\n",
    "SCREEN_WIDTH = 100\n",
    "centered = operator.methodcaller('center', SCREEN_WIDTH)\n"
   ]
  },
  {
   "cell_type": "markdown",
   "metadata": {},
   "source": [
    "## Definition von Hilfsfunktionen\n",
    "### Definition One-Hot-Encoding Funktion "
   ]
  },
  {
   "cell_type": "code",
   "execution_count": 4,
   "metadata": {},
   "outputs": [],
   "source": [
    "\n",
    "# Definition einer Funktion, die das One-Hot-Encoding durchführt\n",
    "#------------\n",
    "# Argumente:\n",
    "# - df: DataFrame welcher bearbeitet werden soll\n",
    "# - df_row: DataFrame-Spalte die bearbeitet werden soll\n",
    "# - make_df: \n",
    "# ---> Wenn False, dann werden die transformierten Werte als Array zurückgegeben\n",
    "# ---> Wenn True, dann wird ein DataFrame zurückgegeben\n",
    "# - overwrite_inv_encoded:\n",
    "# ---> Wenn None, dann werden Spaltennamen des DataFrames auf Grundlage der Merkmals-\n",
    "#      ausprägungen im originalen DataFrame ermittelt\n",
    "# ---> Wenn != None, dann werden die Spalten manuell überschrieben\n",
    "#------------\n",
    "\n",
    "def onehot_encoder_func(df, df_row, make_df=False, overwrite_inv_encoded=None):\n",
    "    values = np.array(df[df_row]) # Transformation der DataFrame-Saplte in ein Numpy Array\n",
    "    label_encoder = LabelEncoder() # Definition des Label-Encoders\n",
    "    integer_encoded = label_encoder.fit_transform(values.ravel()) # Label-Encoder auf Values fitten\n",
    "    onehot_encoder = OneHotEncoder(sparse=False, handle_unknown='ignore') # Definition des One-Hot-Encoders\n",
    "    integer_encoded = integer_encoded.reshape(len(integer_encoded), 1) # Reshape der Integer-Encoded Values\n",
    "    onehot_encoded = onehot_encoder.fit_transform(integer_encoded) # One-Hot-Encoder auf Values fitten\n",
    "    \"\"\"\n",
    "    Wenn make_df == False:\n",
    "    Rückgabe der One-Hot-Encoded \n",
    "    Values als Array\n",
    "    \"\"\"\n",
    "    if make_df == False:\n",
    "        return onehot_encoded # Rückgabe One-Hot-Endcoded Array\n",
    "    \"\"\"\n",
    "    Wenn make_df == True:\n",
    "    Rückgabe der One-Hot-Encoded \n",
    "    Values als DataFrame\n",
    "    \"\"\"\n",
    "    if make_df == True:\n",
    "        \"\"\"\n",
    "        Wenn overwrite_inv_encoded == None:\n",
    "        Spalten des DataFrame werden nicht\n",
    "        manuell überschrieben. Die Spaltennamen\n",
    "        werden aus den Mermalsausprägungen des\n",
    "        originalen DataFrame gewonnen.\n",
    "        \"\"\"\n",
    "        if overwrite_inv_encoded == None:\n",
    "            counter, array = 0, [] # Zähler, Main-Array werden inizialisiert\n",
    "            # For-Schleife, welche ein Arrays mit Arrays generiert, welche\n",
    "            # von i=0 bis i=len(onehot_encoded) jeweils eine 1 enthalten\n",
    "            for i in range(0, len(onehot_encoded[0])):\n",
    "                temp = [0] * len(onehot_encoded[0]) # Temporäres Array\n",
    "                temp[i] = 1 # Variable i im temporären Array wird 1 gesetzt\n",
    "                array.append(temp) # Generiertes Array wird dem Main-Array angefügt\n",
    "            inv_encoded = onehot_encoder.inverse_transform(array) # Inverse Transformation One-Hot-Encoder\n",
    "            inv_encoded = label_encoder.inverse_transform(inv_encoded.astype(int).ravel()) # Inverse Transformation Label-Encoder \n",
    "            # Generierung des DataFrames mit den One-Hot-Encoded Values und originalen Merkmalsausprägungen als Spalten-Namen\n",
    "            encoded_df = pd.DataFrame(onehot_encoded, dtype=float, columns=list(inv_encoded), index=df.index)  \n",
    "            df_ids = df.Id.values.tolist() # Indexspalte bzw. Einträge extrahieren        \n",
    "            encoded_df['Id'] = df_ids # Im encoded_df eine Indexspalteanlegen...\n",
    "            encoded_df = encoded_df.set_index('Id') # ... und als Index serzen\n",
    "            return encoded_df # Rückgabe DataFrame\n",
    "        \"\"\"\n",
    "        Wenn overwrite_inv_encoded != None:\n",
    "        Spalten des DataFrame werden manuell\n",
    "        überschrieben sofern Übergebene Array\n",
    "        genügend Spaltennamen enthält.\n",
    "        \"\"\"\n",
    "        if overwrite_inv_encoded != None:\n",
    "            # Prüfung ob die Länge des manuell festgelegten Arrays gleich \n",
    "            # der Länge eines Arrays ist, welches aus den One-Hot-Endcoded\n",
    "            # Values resultiert.\n",
    "            case = len(overwrite_inv_encoded) == (len(onehot_encoded[0]))\n",
    "            \"\"\"\n",
    "            # Sofern case = True werden die Spalten\n",
    "            wie gewünscht überschrieben\n",
    "            \"\"\"\n",
    "            if case == True:            \n",
    "                # Generierung des DataFrames mit den One-Hot-Encoded Values und manuell überschriebenen Spalten-Namen\n",
    "                encoded_df = pd.DataFrame(onehot_encoded, dtype=float, columns=list(overwrite_inv_encoded), index=df.index)\n",
    "                return encoded_df # Rückgabe DataFrame\n",
    "                \"\"\"\n",
    "                ERROR MESSAGE sofern \"overwrite_inv_encoded\"\n",
    "                nicht lang genug.\n",
    "                \"\"\"\n",
    "            else: \n",
    "                ERROR = 'ERROR Len of \"overwrite_inv_encoded\" have to be {}!'.format(len(onehot_encoded[0]))\n",
    "                return ERROR\n",
    "        \"\"\"   \n",
    "        ERROR MESSAGE sofern \"make_df\"\n",
    "        kein gültiges Argument erhält.\n",
    "        \"\"\"\n",
    "    else:\n",
    "        print('ERROR: \"make_df\" needs an Argument!')\n",
    "        "
   ]
  },
  {
   "cell_type": "markdown",
   "metadata": {},
   "source": [
    "### Funktion zur Durchführung des Encodings und joinen der Teil-DataFrames"
   ]
  },
  {
   "cell_type": "code",
   "execution_count": 5,
   "metadata": {},
   "outputs": [],
   "source": [
    "\n",
    "# Definition einer Funktion, die einen DataFrame und eine Liste als Argumente erhält und anschließend\n",
    "# für jedes Element der Liste das One-Hot-Enconding im DataFrame durchführt.\n",
    "#------------\n",
    "# Argumente:\n",
    "# - df1: DataFrame welcher bearbeitet werden soll\n",
    "# - liste_ Liste, die abgearbeitet werden soll\n",
    "#------------\n",
    "\n",
    "def encode(df1, liste):\n",
    "    #--------------------------------\n",
    "    # Kopie des originalen DataFrames anlegen und Spalte Id als Index setzen\n",
    "    df2 = df1.copy() \n",
    "    df2 = df2.set_index('Id')   \n",
    "    #--------------------------------\n",
    "    # One-Hote-Encoding auf Grundlage der Datentypliste mit Objekten durchführen\n",
    "    onehot_encoded_df_list = []\n",
    "    for i in liste:\n",
    "        # Versuche ein One-Hot-Encoding durchzuführen\n",
    "        try:\n",
    "            #--------------------------------\n",
    "            # Führe das Encoding durch und füge die Werte einer Liste an, dann entferne die originale Spalte     \n",
    "            onehot_encoded = onehot_encoder_func(df1, str(i), make_df=True)\n",
    "            onehot_encoded_df_list.append(onehot_encoded)            \n",
    "            df2 = df2.drop(str(i), axis=1)   \n",
    "        #--------------------------------\n",
    "        # Bei Scheritern Meldung ausgeben und Spalte (zunächst) entferen\n",
    "        except:\n",
    "            print('ERROR in {}'.format(i))\n",
    "            df2 = df2.drop(str(i), axis=1)\n",
    "    #--------------------------------\n",
    "    # Teil-DataFrames mit One-Hot-Endocding-Werten zusammenführen und ausgeben\n",
    "    counter = 0\n",
    "    for i in onehot_encoded_df_list:\n",
    "        df2 = df2.join(i, lsuffix=str(counter))\n",
    "        counter += 1        \n",
    "    return df2\n"
   ]
  },
  {
   "cell_type": "markdown",
   "metadata": {},
   "source": [
    "### Funktion zur Datenbereinigung (NaN-Werte)"
   ]
  },
  {
   "cell_type": "code",
   "execution_count": 6,
   "metadata": {},
   "outputs": [],
   "source": [
    "\n",
    "# Definition einer Funktion, die eine automatisierte Entferunung von Spalten mit zu vielen NaN-Werten (über einem festgelegten Schwellenwert)\n",
    "# vornimmt und automatisch Spalten mit einer vorgegebenen Methode füllt, welche den Schwellenwert nicht überschreitzen.\n",
    "#------------\n",
    "# Argumente:\n",
    "# - df: DataFrame welcher bearbeitet werden soll\n",
    "# - upper_limit: Schwellenwert ab welchem die Spalte gelöscht werden soll\n",
    "# - method: Methode mit der NaN-Werte in Spalten, welche nicht gelöscht werden, gefüllt werden\n",
    "#------------\n",
    "\n",
    "def clean_my_data(df, upper_limit=30):    \n",
    "    #--------------------------------\n",
    "    # Get isnull from dataframe and safe in list    \n",
    "    isnull_list = df.isnull().sum()        \n",
    "    #--------------------------------\n",
    "    # get values and index of isnull_list\n",
    "    value = isnull_list.values.tolist()\n",
    "    index = isnull_list.index.tolist()    \n",
    "    #--------------------------------\n",
    "    # match value and index in one list\n",
    "    isnull_list = []\n",
    "    for i in range(0, len(index)):\n",
    "        temp = (index[i], value[i])\n",
    "        isnull_list.append(temp)        \n",
    "    #--------------------------------\n",
    "    # sort the list and kick values above upper_limit, safe that as capped_list\n",
    "    isnull_list = sorted(isnull_list, key = lambda x: abs(x[1]), reverse=True)  \n",
    "    capped_list = [i for i in isnull_list if abs(i[1]) <= 30]    \n",
    "    #--------------------------------\n",
    "    # get all elements from cappend list which got at least one nan-value\n",
    "    nan_list = [i for i in capped_list if abs(i[1]) > 0]    \n",
    "    #--------------------------------\n",
    "    # extrakt the index from nan_list and safe  in to_fix_list\n",
    "    to_fix_list = []\n",
    "    for i in nan_list:\n",
    "        to_fix_list.append(i[0])        \n",
    "    #--------------------------------\n",
    "    # fill all to_fix_colums with most common value \n",
    "    for i in to_fix_list:\n",
    "        temp = df[str(i)].value_counts().idxmax()\n",
    "        df[str(i)] = df[str(i)].replace(np.nan, temp)  \n",
    "    #--------------------------------\n",
    "    # extrakt the index from isnull_list and safe it in feature_list\n",
    "    feature_list = []\n",
    "    for i in capped_list:\n",
    "        feature_list.append(i[0])\n",
    "    #--------------------------------\n",
    "    # filter the dataframe by the feature_list\n",
    "    df = df.filter(items=feature_list)        \n",
    "    return df\n"
   ]
  },
  {
   "cell_type": "markdown",
   "metadata": {},
   "source": [
    "### Funktion für die Separierung von Datentypen eines DataFrames"
   ]
  },
  {
   "cell_type": "code",
   "execution_count": 7,
   "metadata": {},
   "outputs": [],
   "source": [
    "\n",
    "# Definition einer Funktion, die einen DataFrame erhält und daraufhin automatisch die Datentypen\n",
    "# in verschiedene Listen separiert, um diese mittels One-Hot-Endocding aufbereiten zu können\n",
    "#------------\n",
    "# Argumente:\n",
    "# - df: DataFrame welcher bearbeitet werden soll\n",
    "#------------\n",
    "\n",
    "def separate_dtypes(df):\n",
    "    #--------------------------------\n",
    "    # Get dtypes from dataframe and safe in list  \n",
    "    values = df.dtypes.values.tolist()\n",
    "    index = df.dtypes.index.tolist()\n",
    "    #--------------------------------\n",
    "    # match value and index in one list\n",
    "    type_list = []\n",
    "    for i in range(1, len(index)):\n",
    "        temp = (index[i], values[i])\n",
    "        type_list.append(temp)\n",
    "    #--------------------------------\n",
    "    # for each element of type_list determine type and safe in specific list\n",
    "    int_list, object_list, float_list, other_list = [], [], [], []\n",
    "    for i in range(0, len(type_list)):\n",
    "        # Int-Werte\n",
    "        if type_list[i][1] == 'int64':\n",
    "            int_list.append(type_list[i][0])\n",
    "        # Object-Werte\n",
    "        elif type_list[i][1] == 'object':\n",
    "            object_list.append(type_list[i][0])\n",
    "        # Float-Werte\n",
    "        elif type_list[i][1] == 'float64':\n",
    "            float_list.append(type_list[i][0])\n",
    "        # Andere Werte\n",
    "        else:\n",
    "            other_list.append(type_list[i][0])\n",
    "            \n",
    "    #--------------------------------\n",
    "    # return lists as dictonary   \n",
    "    my_dict = {'object':object_list, 'int64':int_list, 'float64':float_list, 'other':other_list}\n",
    "    return my_dict\n"
   ]
  },
  {
   "cell_type": "markdown",
   "metadata": {},
   "source": [
    "### Funktion für das Submitten"
   ]
  },
  {
   "cell_type": "code",
   "execution_count": 8,
   "metadata": {},
   "outputs": [],
   "source": [
    "\n",
    "# Definition einer Funktion, welche das Submitten der Prognose auf dem Testdatensatz erleichert\n",
    "#------------\n",
    "# Argumente:\n",
    "# - model: Modell auf Basis dessen die Prognose erfolgt\n",
    "# - X_test: Datensatz aus Basis dessen die Prognose erfolgt\n",
    "# - save:\n",
    "# ---> Wenn False, dann werden die prognostizierten Daten nicht gespeichert\n",
    "# ---> Wenn True, dann werden die prognostizierten Daten als .csv gespeichert\n",
    "# - manu_name:\n",
    "# ---> Wenn None, dann wird ein nicht eindeutiger Standardname als Bezeichnung der .csv gewählt\n",
    "# ---> Wenn != None, dann wird die zu speichernde .csv mit einem timestamp versehen\n",
    "#------------\n",
    "\n",
    "def submit(model, X_test, y_scaler, save=False, manu_name=False):    \n",
    "    #--------------------------------\n",
    "    # predict on test set and inverse transformation for y values\n",
    "    predicted_test = model.predict(X_test)    \n",
    "    predicted_test = y_scalar.inverse_transform(predicted_test.reshape(-1, 1))\n",
    "    #--------------------------------\n",
    "    # Submissiondatensatz einlesen und prognostizierte Werte hineinschreiben\n",
    "    submission = pd.read_csv('sample_submission.csv')\n",
    "    submission['SalePrice'] = predicted_test    \n",
    "    #--------------------------------\n",
    "    # In .csv speichern, wenn save=True\n",
    "    if save == True:        \n",
    "        #--------------------------------\n",
    "        # Standardnamen wählen, wenn manu_name == False\n",
    "        if manu_name == False:\n",
    "            submission.to_csv('./predicted_values.csv', index=False)            \n",
    "        #--------------------------------\n",
    "        # Standardnamen mit timestamp kombinieren, wenn  manu_name == True\n",
    "        if manu_name == True:            \n",
    "            import datetime \n",
    "            now = datetime.datetime.now()\n",
    "            name = now.strftime('%Y-%m-%dT%H%M%S') + ('-%02d' % (now.microsecond / 10000))            \n",
    "            submission.to_csv('./predicted_values_' + str(name) + '.csv', index=False)            \n",
    "        \n",
    "    #--------------------------------\n",
    "    # return submission dataframe\n",
    "    return submission\n"
   ]
  },
  {
   "cell_type": "markdown",
   "metadata": {},
   "source": [
    "### Funktion zum Abgleich zweier Listen"
   ]
  },
  {
   "cell_type": "code",
   "execution_count": 9,
   "metadata": {},
   "outputs": [],
   "source": [
    "\n",
    "# Definition einer Funktion, die zwei Listen miteinander abgleicht und deren\n",
    "# gemeinsame Werten zurückgibt\n",
    "#------------\n",
    "# Argumente:\n",
    "# - a: Lsite 1\n",
    "# - b: Liste 2\n",
    "#------------\n",
    "\n",
    "def returnMatches(a, b, or_not_matches=False):\n",
    "    #--------------------------------\n",
    "    # check lists for matches\n",
    "    if or_not_matches == False:\n",
    "        matches = [x for x in a if x in b], [x for x in b if x in a]\n",
    "    else:\n",
    "        matches = [x for x in a if x not in b], [x for x in b if x not in a]\n",
    "    #--------------------------------\n",
    "    # return first or second array\n",
    "    if len(matches[0]) == 0:        \n",
    "        return matches[1]\n",
    "    else:\n",
    "        return matches[0]\n"
   ]
  },
  {
   "cell_type": "markdown",
   "metadata": {},
   "source": [
    "### Funktion zum matchen zweier DataFrames"
   ]
  },
  {
   "cell_type": "code",
   "execution_count": 10,
   "metadata": {},
   "outputs": [],
   "source": [
    "\n",
    "# Definition einer Funktion, die zwei DataFrame miteinander matcht, indem \n",
    "# nur gemeinsame Spalten übernommen werden\n",
    "#------------\n",
    "# Argumente:\n",
    "# - a: Lsite 1\n",
    "# - b: Liste 2\n",
    "#------------\n",
    "\n",
    "def match_train_and_test(train_data, test_data):\n",
    "    #--------------------------------\n",
    "    # get colum names form both dataframes\n",
    "    a = train_data.columns.values.tolist()\n",
    "    b = test_data.columns.values.tolist()\n",
    "    #--------------------------------\n",
    "    # return matches\n",
    "    z = returnMatches(b, a)\n",
    "    #--------------------------------\n",
    "    # filter both dataframes to match them\n",
    "    train_data = train_data.filter(items=z)\n",
    "    test_data = test_data.filter(items=z)\n",
    "    #--------------------------------\n",
    "    # return matches dataframes    \n",
    "    return train_data, test_data\n"
   ]
  },
  {
   "cell_type": "markdown",
   "metadata": {},
   "source": [
    "### Funktion zur Ermittlung der Korrelation der DataFrame-Einträge mit der Zielgröße"
   ]
  },
  {
   "cell_type": "code",
   "execution_count": 11,
   "metadata": {},
   "outputs": [],
   "source": [
    "\n",
    "# Definition einer Funktion, die die Korrelation aller Spaltenm mit der Zielgröße\n",
    "# berechnet und ab einen bestimmten Schwellenwert Features entfernt\n",
    "#------------\n",
    "# Argumente:\n",
    "# - df: Zu bearbeitender DataFrame\n",
    "# - down_limit: Limit ab welchen Features zugelassen werden\n",
    "#------------\n",
    "\n",
    "def determine_corr_with_target_value(df, down_limit=0.01):\n",
    "    #--------------------------------\n",
    "    # Get corr with target vlaue from dataframe and safe in list  \n",
    "    index = df.corrwith(df.SalePrice, axis=0).index.tolist()\n",
    "    values = df.corrwith(df.SalePrice, axis=0).values.tolist()\n",
    "    #--------------------------------\n",
    "    # match value and index in one list\n",
    "    corr_list = []\n",
    "    for i in range(1, len(index)):\n",
    "        temp = (index[i], values[i])\n",
    "        corr_list.append(temp)\n",
    "    #--------------------------------\n",
    "    # sort corr_list and kick elemennts with corr below down_limit\n",
    "    corr_list = sorted(corr_list, key = lambda x: abs(x[1]), reverse=True)  \n",
    "    corr_list = [i for i in corr_list if abs(i[1]) >= down_limit]\n",
    "    #--------------------------------\n",
    "    # extrakt the elements that fulfill the specification and and safe themin feature_list\n",
    "    feature_list = []\n",
    "    for i in corr_list:\n",
    "        feature_list.append(i[0])\n",
    "    #--------------------------------\n",
    "    # filter the dataframe by the feature_list\n",
    "    df = df.filter(items=feature_list)\n",
    "    #--------------------------------\n",
    "    # dataframe\n",
    "    return df\n"
   ]
  },
  {
   "cell_type": "markdown",
   "metadata": {},
   "source": [
    "### Funktion zum Skalieren der Daten"
   ]
  },
  {
   "cell_type": "code",
   "execution_count": 14,
   "metadata": {},
   "outputs": [],
   "source": [
    "\n",
    "# Definition einer Funktion, die die Skalierung der Daten vornimmt\n",
    "#------------\n",
    "# Argumente:\n",
    "# - df: Zu bearbeitender DataFrame\n",
    "# - my_scaler: Scaler der zur Sklalierung verwendet werden soll\n",
    "#------------\n",
    "\n",
    "def scale_it(df, my_scaler=StandardScaler):\n",
    "    #--------------------------------\n",
    "    # Define x and y data\n",
    "    data = df.values\n",
    "    X = data[:,:(len(df.columns) - 2)]\n",
    "    y = data[:,(len(df.columns) - 1)]\n",
    "    #--------------------------------\n",
    "    # Scaling input data X\n",
    "    scalar = my_scaler()\n",
    "    scalar.fit(X)\n",
    "    X = scalar.transform(X)\n",
    "    #--------------------------------\n",
    "    # Scaling input data y\n",
    "    y = y.reshape(-1,1)\n",
    "    y_scalar = my_scaler()\n",
    "    y_scalar.fit(y)\n",
    "    y = y_scalar.transform(y)\n",
    "    #--------------------------------\n",
    "    # return X, y and y_scaler for inverse scaling\n",
    "    return X, y, y_scalar\n"
   ]
  },
  {
   "cell_type": "markdown",
   "metadata": {},
   "source": [
    "### Funktion zur Vorbereitung der Testdaten"
   ]
  },
  {
   "cell_type": "code",
   "execution_count": 15,
   "metadata": {},
   "outputs": [],
   "source": [
    "\n",
    "# Definition einer Funktion, die die Testdaten für das Submitten vorbereitetz\n",
    "#------------\n",
    "# Argumente:\n",
    "# - test_data: Zu bearbeitender DataFrame\n",
    "#------------\n",
    "\n",
    "def make_test_data_fit(test_data, my_scaler=StandardScaler):\n",
    "    #--------------------------------\n",
    "    # Make array out of DataFrame\n",
    "    data = test_data.values\n",
    "    X = data[:,:(len(test_data.columns) - 1)]\n",
    "    #--------------------------------\n",
    "    # Scale and reutrn\n",
    "    scalar = my_scaler()\n",
    "    scalar.fit(X)\n",
    "    X = scalar.transform(X)    \n",
    "    return X\n"
   ]
  },
  {
   "cell_type": "markdown",
   "metadata": {},
   "source": [
    "## Daten einlesen und modifizieren\n",
    "### Ausgangsdaten einlesen und anzeigen"
   ]
  },
  {
   "cell_type": "code",
   "execution_count": 16,
   "metadata": {},
   "outputs": [],
   "source": [
    "\n",
    "train_data = pd.read_csv(\"train.csv\")\n",
    "test_data = pd.read_csv(\"test.csv\")\n",
    "test_data['SalePrice'] = 0\n",
    "train_data.head()\n"
   ]
  },
  {
   "cell_type": "markdown",
   "metadata": {},
   "source": [
    "### Datensatz um NaN-Werte bereinigen\n",
    "Saplten mit > 30 fehlenden Einträgen werden gelöscht. \n",
    "Bei Spalten in denen maximal 30 Einträge fehlen, werden diese durch den häufigsten Wert ersetzt."
   ]
  },
  {
   "cell_type": "code",
   "execution_count": 17,
   "metadata": {},
   "outputs": [],
   "source": [
    "\n",
    "#--------------------------------\n",
    "# Datenbereinigung \n",
    "train_data = clean_my_data(train_data, upper_limit=30) \n",
    "test_data = clean_my_data(test_data, upper_limit=30) \n",
    "#--------------------------------\n",
    "# Matchen\n",
    "train_data, test_data = match_train_and_test(train_data, test_data)\n"
   ]
  },
  {
   "cell_type": "markdown",
   "metadata": {},
   "source": [
    "## Datensatz um Ausreißer bereinigen\n",
    "### Ermittlung der Datentypen\n",
    "Die Datentypen in den DataFrames werden ermittelt sodass anschließend das One-Hot-Endocing für Spalten, welche Objekte enhtalten, durchgeführt werden kann."
   ]
  },
  {
   "cell_type": "code",
   "execution_count": 18,
   "metadata": {},
   "outputs": [],
   "source": [
    "\n",
    "#--------------------------------\n",
    "# Ermittlung Datentypen\n",
    "object_list = separate_dtypes(train_data)['object'] \n",
    "object_list.append('BsmtExposure')\n"
   ]
  },
  {
   "cell_type": "markdown",
   "metadata": {},
   "source": [
    "### Durchführung One-Hot-Encoding\n",
    "Nominale Features werden rechenbar gemacht."
   ]
  },
  {
   "cell_type": "code",
   "execution_count": 19,
   "metadata": {},
   "outputs": [],
   "source": [
    "\n",
    "#--------------------------------\n",
    "# Durchführung One-Hot-Encoding\n",
    "train_data = encode(train_data, object_list)\n",
    "test_data = encode(test_data, object_list)\n",
    "#--------------------------------\n",
    "# Matchen\n",
    "train_data, test_data = match_train_and_test(train_data, test_data)\n"
   ]
  },
  {
   "cell_type": "markdown",
   "metadata": {},
   "source": [
    "### Feature Selektion (Korrelation)\n",
    "Entfernung von Spalten, die sehr wenig mit der Zielgröße korrelieren."
   ]
  },
  {
   "cell_type": "code",
   "execution_count": 22,
   "metadata": {},
   "outputs": [
    {
     "name": "stdout",
     "output_type": "stream",
     "text": [
      "(460, 224)\n",
      "(460, 20)\n"
     ]
    },
    {
     "data": {
      "text/html": [
       "<div>\n",
       "<style scoped>\n",
       "    .dataframe tbody tr th:only-of-type {\n",
       "        vertical-align: middle;\n",
       "    }\n",
       "\n",
       "    .dataframe tbody tr th {\n",
       "        vertical-align: top;\n",
       "    }\n",
       "\n",
       "    .dataframe thead th {\n",
       "        text-align: right;\n",
       "    }\n",
       "</style>\n",
       "<table border=\"1\" class=\"dataframe\">\n",
       "  <thead>\n",
       "    <tr style=\"text-align: right;\">\n",
       "      <th></th>\n",
       "      <th>OverallQual</th>\n",
       "      <th>YearBuilt</th>\n",
       "      <th>YearRemodAdd</th>\n",
       "      <th>TotalBsmtSF</th>\n",
       "      <th>1stFlrSF</th>\n",
       "      <th>GrLivArea</th>\n",
       "      <th>FullBath</th>\n",
       "      <th>TotRmsAbvGrd</th>\n",
       "      <th>Fireplaces</th>\n",
       "      <th>GarageCars</th>\n",
       "      <th>GarageArea</th>\n",
       "      <th>Ex21</th>\n",
       "      <th>TA2</th>\n",
       "      <th>NridgHt</th>\n",
       "      <th>Ex22</th>\n",
       "      <th>TA22</th>\n",
       "      <th>PConc</th>\n",
       "      <th>Ex</th>\n",
       "      <th>TA</th>\n",
       "      <th>SalePrice</th>\n",
       "    </tr>\n",
       "    <tr>\n",
       "      <th>Id</th>\n",
       "      <th></th>\n",
       "      <th></th>\n",
       "      <th></th>\n",
       "      <th></th>\n",
       "      <th></th>\n",
       "      <th></th>\n",
       "      <th></th>\n",
       "      <th></th>\n",
       "      <th></th>\n",
       "      <th></th>\n",
       "      <th></th>\n",
       "      <th></th>\n",
       "      <th></th>\n",
       "      <th></th>\n",
       "      <th></th>\n",
       "      <th></th>\n",
       "      <th></th>\n",
       "      <th></th>\n",
       "      <th></th>\n",
       "      <th></th>\n",
       "    </tr>\n",
       "  </thead>\n",
       "  <tbody>\n",
       "    <tr>\n",
       "      <td>670</td>\n",
       "      <td>4</td>\n",
       "      <td>1922</td>\n",
       "      <td>1950</td>\n",
       "      <td>700</td>\n",
       "      <td>1180</td>\n",
       "      <td>1180</td>\n",
       "      <td>1</td>\n",
       "      <td>5</td>\n",
       "      <td>1</td>\n",
       "      <td>1</td>\n",
       "      <td>252</td>\n",
       "      <td>0.0</td>\n",
       "      <td>0.0</td>\n",
       "      <td>0.0</td>\n",
       "      <td>0.0</td>\n",
       "      <td>1.0</td>\n",
       "      <td>0.0</td>\n",
       "      <td>0.0</td>\n",
       "      <td>0.0</td>\n",
       "      <td>137500</td>\n",
       "    </tr>\n",
       "    <tr>\n",
       "      <td>958</td>\n",
       "      <td>5</td>\n",
       "      <td>1962</td>\n",
       "      <td>1962</td>\n",
       "      <td>1057</td>\n",
       "      <td>1057</td>\n",
       "      <td>1057</td>\n",
       "      <td>1</td>\n",
       "      <td>6</td>\n",
       "      <td>0</td>\n",
       "      <td>2</td>\n",
       "      <td>576</td>\n",
       "      <td>0.0</td>\n",
       "      <td>1.0</td>\n",
       "      <td>0.0</td>\n",
       "      <td>0.0</td>\n",
       "      <td>1.0</td>\n",
       "      <td>0.0</td>\n",
       "      <td>0.0</td>\n",
       "      <td>1.0</td>\n",
       "      <td>132000</td>\n",
       "    </tr>\n",
       "    <tr>\n",
       "      <td>614</td>\n",
       "      <td>5</td>\n",
       "      <td>2007</td>\n",
       "      <td>2007</td>\n",
       "      <td>1120</td>\n",
       "      <td>1120</td>\n",
       "      <td>1120</td>\n",
       "      <td>1</td>\n",
       "      <td>6</td>\n",
       "      <td>0</td>\n",
       "      <td>0</td>\n",
       "      <td>0</td>\n",
       "      <td>0.0</td>\n",
       "      <td>0.0</td>\n",
       "      <td>0.0</td>\n",
       "      <td>0.0</td>\n",
       "      <td>1.0</td>\n",
       "      <td>1.0</td>\n",
       "      <td>0.0</td>\n",
       "      <td>1.0</td>\n",
       "      <td>147000</td>\n",
       "    </tr>\n",
       "    <tr>\n",
       "      <td>83</td>\n",
       "      <td>8</td>\n",
       "      <td>2007</td>\n",
       "      <td>2007</td>\n",
       "      <td>1563</td>\n",
       "      <td>1563</td>\n",
       "      <td>1563</td>\n",
       "      <td>2</td>\n",
       "      <td>6</td>\n",
       "      <td>1</td>\n",
       "      <td>3</td>\n",
       "      <td>758</td>\n",
       "      <td>0.0</td>\n",
       "      <td>0.0</td>\n",
       "      <td>0.0</td>\n",
       "      <td>0.0</td>\n",
       "      <td>1.0</td>\n",
       "      <td>1.0</td>\n",
       "      <td>0.0</td>\n",
       "      <td>0.0</td>\n",
       "      <td>245000</td>\n",
       "    </tr>\n",
       "    <tr>\n",
       "      <td>1183</td>\n",
       "      <td>10</td>\n",
       "      <td>1996</td>\n",
       "      <td>1996</td>\n",
       "      <td>2396</td>\n",
       "      <td>2411</td>\n",
       "      <td>4476</td>\n",
       "      <td>3</td>\n",
       "      <td>10</td>\n",
       "      <td>2</td>\n",
       "      <td>3</td>\n",
       "      <td>813</td>\n",
       "      <td>1.0</td>\n",
       "      <td>0.0</td>\n",
       "      <td>0.0</td>\n",
       "      <td>0.0</td>\n",
       "      <td>0.0</td>\n",
       "      <td>1.0</td>\n",
       "      <td>1.0</td>\n",
       "      <td>0.0</td>\n",
       "      <td>745000</td>\n",
       "    </tr>\n",
       "  </tbody>\n",
       "</table>\n",
       "</div>"
      ],
      "text/plain": [
       "      OverallQual  YearBuilt  YearRemodAdd  TotalBsmtSF  1stFlrSF  GrLivArea  FullBath  TotRmsAbvGrd  Fireplaces  GarageCars  GarageArea  Ex21  TA2  NridgHt  Ex22  TA22  PConc   Ex   TA  SalePrice\n",
       "Id                                                                                                                                                                                                  \n",
       "670             4       1922          1950          700      1180       1180         1             5           1           1         252   0.0  0.0      0.0   0.0   1.0    0.0  0.0  0.0     137500\n",
       "958             5       1962          1962         1057      1057       1057         1             6           0           2         576   0.0  1.0      0.0   0.0   1.0    0.0  0.0  1.0     132000\n",
       "614             5       2007          2007         1120      1120       1120         1             6           0           0           0   0.0  0.0      0.0   0.0   1.0    1.0  0.0  1.0     147000\n",
       "83              8       2007          2007         1563      1563       1563         2             6           1           3         758   0.0  0.0      0.0   0.0   1.0    1.0  0.0  0.0     245000\n",
       "1183           10       1996          1996         2396      2411       4476         3            10           2           3         813   1.0  0.0      0.0   0.0   0.0    1.0  1.0  0.0     745000"
      ]
     },
     "execution_count": 22,
     "metadata": {},
     "output_type": "execute_result"
    }
   ],
   "source": [
    "\n",
    "print(train_data.shape)\n",
    "\n",
    "#--------------------------------\n",
    "# Feature Selektion anhand der Korrelation\n",
    "train_data = determine_corr_with_target_value(train_data, down_limit=0.4)\n",
    "#--------------------------------\n",
    "# Matchen\n",
    "train_data, test_data = match_train_and_test(train_data, test_data)\n",
    "#--------------------------------\n",
    "# Bug beheben\n",
    "trainSale = train_data['SalePrice'].values.tolist()\n",
    "train_data = train_data.drop('SalePrice', axis=1)\n",
    "test_data = test_data.drop('SalePrice', axis=1)\n",
    "train_data['SalePrice'] = trainSale\n",
    "\n",
    "print(train_data.shape)\n",
    "\n",
    "train_data.head()\n"
   ]
  },
  {
   "cell_type": "markdown",
   "metadata": {},
   "source": [
    "## Korrelation aller Features untereinander\n",
    "Überprüfung inwieweit sich weitere Features entfernen lassen, da sie stark mit einem anderen starker mit der Zielgröße korrelierenden Feature zusammenhängen.\n",
    "### Visualisierung"
   ]
  },
  {
   "cell_type": "code",
   "execution_count": 23,
   "metadata": {},
   "outputs": [
    {
     "data": {
      "text/plain": [
       "(20.0, 0.0)"
      ]
     },
     "execution_count": 23,
     "metadata": {},
     "output_type": "execute_result"
    },
    {
     "data": {
      "image/png": "[encoded data removed]",
      "text/plain": [
       "<Figure size 2880x1440 with 2 Axes>"
      ]
     },
     "metadata": {
      "needs_background": "light"
     },
     "output_type": "display_data"
    }
   ],
   "source": [
    "\n",
    "#--------------------------------\n",
    "# Heatmap Plotten\n",
    "X = train_data.drop('SalePrice',axis='columns') # Independent columns\n",
    "y = train_data['SalePrice'] # Target column\n",
    "corrmat = train_data.corr() # Get correlations of each features in dataset\n",
    "top_corr_features = corrmat.index\n",
    "plt.figure(figsize=(40,20)) # Größe Grafik\n",
    "ax = sns.heatmap(train_data[top_corr_features].corr(),annot=True,cmap=\"RdYlGn\") # Plot heat map\n",
    "bottom, top = ax.get_ylim() # Get limits X-, Y-Achse                 \n",
    "ax.set_ylim(bottom + 0.5, top - 0.5) # Erweiterterung der Limits\n"
   ]
  },
  {
   "cell_type": "markdown",
   "metadata": {},
   "source": [
    "### Entfernung von untereinander stark korrelierten Features"
   ]
  },
  {
   "cell_type": "code",
   "execution_count": 24,
   "metadata": {},
   "outputs": [
    {
     "data": {
      "text/plain": [
       "(460, 20)"
      ]
     },
     "execution_count": 24,
     "metadata": {},
     "output_type": "execute_result"
    }
   ],
   "source": [
    "\n",
    "_ = train_data.drop('1stFlrSF',axis='columns')\n",
    "#train_data.drop('TotalBsmtSF',axis='columns')\n",
    "\n",
    "_ = train_data.drop('GrLivArea',axis='columns')\n",
    "#train_data.drop('TotRmsAbvGrd',axis='columns')\n",
    "\n",
    "_ = train_data.drop('GarageCars',axis='columns')\n",
    "#train_data.drop('GarageArea',axis='columns')\n",
    "train_data.shape\n"
   ]
  },
  {
   "cell_type": "markdown",
   "metadata": {},
   "source": [
    "### Trainigsdatensatz skalieren und in Teildatatensätze splitten\n",
    "Hinweis: Zum finalen Traing (so wie hier geschehen) wird der gesamte zur Verfügung stehende Traingsdatensatz verwednet, da dies bessere Ergebnisse auf Kaggle mit sich brachte."
   ]
  },
  {
   "cell_type": "code",
   "execution_count": 25,
   "metadata": {},
   "outputs": [],
   "source": [
    "\n",
    "#--------------------------------\n",
    "# Skalierung\n",
    "X, y, y_scalar = scale_it(train_data, my_scaler=RobustScaler)\n",
    "#--------------------------------\n",
    "# Splitten\n",
    "X_train, X_validierung, y_train, y_validierung = train_test_split(X, y, test_size=0.2, random_state=2121)\n"
   ]
  },
  {
   "cell_type": "markdown",
   "metadata": {},
   "source": [
    "## Prognose anhand eines KNN mittels Keras (Regression)\n",
    "### Modell defininieren\n",
    "Die Architiektur des Modells wird definiert."
   ]
  },
  {
   "cell_type": "code",
   "execution_count": 26,
   "metadata": {},
   "outputs": [],
   "source": [
    "\n",
    "def create_model( my_layer_units, my_learn_rate, my_dropout,\n",
    "                 my_weight_constraint, my_regularizer, my_kernel_initializer, my_activation, input_dim=X_train.shape[1]):\n",
    "    \n",
    "    #--------------------------------\n",
    "    # Create model and define optimizer\n",
    "    model = Sequential()\n",
    "    my_optimizer = optimizers.Adam(lr=my_learn_rate)\n",
    "    \n",
    "    #--------------------------------\n",
    "    # Input layer\n",
    "    model.add(Dense(int(my_layer_units * 1), input_dim=input_dim, kernel_regularizer=my_regularizer,\n",
    "                    kernel_initializer=my_kernel_initializer, activation=my_activation,\n",
    "                    kernel_constraint=maxnorm(my_weight_constraint)))\n",
    "    \n",
    "    #--------------------------------\n",
    "    # Hidden layer 1         \n",
    "    model.add(Dense(int(my_layer_units * 1), kernel_regularizer=my_regularizer,\n",
    "                    kernel_initializer=my_kernel_initializer, activation=my_activation,\n",
    "                    kernel_constraint=maxnorm(my_weight_constraint)))\n",
    "    #--------------------------------\n",
    "    # Dropout und hidden layer 2\n",
    "    model.add(Dropout(my_dropout)) \n",
    "    model.add(Dense(int(my_layer_units * 1), kernel_regularizer=my_regularizer,\n",
    "                    kernel_initializer=my_kernel_initializer, activation=my_activation,\n",
    "                    kernel_constraint=maxnorm(my_weight_constraint)))\n",
    "    \n",
    "    #--------------------------------\n",
    "    # Dropout und hidden layer 3        \n",
    "    model.add(Dropout(my_dropout)) \n",
    "    model.add(Dense(int(my_layer_units * 1), kernel_regularizer=my_regularizer,\n",
    "                    kernel_initializer=my_kernel_initializer,  activation=my_activation,\n",
    "                    kernel_constraint=maxnorm(my_weight_constraint)))\n",
    "    \n",
    "    #--------------------------------\n",
    "    # Dropout und hidden layer 4      \n",
    "    model.add(Dropout(my_dropout)) \n",
    "    model.add(Dense(int(my_layer_units * 1), kernel_regularizer=my_regularizer,\n",
    "                    kernel_initializer=my_kernel_initializer,  activation=my_activation,\n",
    "                    kernel_constraint=maxnorm(my_weight_constraint)))\n",
    "    \n",
    "    #--------------------------------\n",
    "    # Dropout und hidden layer 5    \n",
    "    model.add(Dropout(my_dropout)) \n",
    "    model.add(Dense(int(my_layer_units * 1), kernel_regularizer=my_regularizer,\n",
    "                    kernel_initializer=my_kernel_initializer,  activation=my_activation,\n",
    "                    kernel_constraint=maxnorm(my_weight_constraint)))\n",
    "    \n",
    "    #--------------------------------\n",
    "    # Dropout und hidden layer 6        \n",
    "    model.add(Dropout(my_dropout)) \n",
    "    model.add(Dense(int(my_layer_units * 1), kernel_regularizer=my_regularizer,\n",
    "                    kernel_initializer=my_kernel_initializer,  activation=my_activation,\n",
    "                    kernel_constraint=maxnorm(my_weight_constraint)))\n",
    "    \n",
    "    #--------------------------------\n",
    "    # Output layer\n",
    "    model.add(Dense(1, activation='linear'))\n",
    "    #--------------------------------\n",
    "    # Compile model and return    \n",
    "    model.compile(optimizer=my_optimizer, loss = 'mean_squared_error')    \n",
    "    return model\n"
   ]
  },
  {
   "cell_type": "markdown",
   "metadata": {},
   "source": [
    "### Parameter für die Kreuzvaliderung definieren"
   ]
  },
  {
   "cell_type": "code",
   "execution_count": 27,
   "metadata": {},
   "outputs": [],
   "source": [
    "\n",
    "#--------------------------------\n",
    "# Listen mit zu testenden Parametern\n",
    "batch_size_list = [15]#, 5, 25, 30, 50]\n",
    "epochs_list = [75]#, 25, 50, 150, 250]#, 500, 1000]\n",
    "learn_rate_list = [0.0001]#, 0.001, 0.01]\n",
    "dropout_list = [0.0]#, 0.1, 0.3, 0.5]\n",
    "weight_constraint = [None]#, 1, 2, 3]\n",
    "layer_unit_list = [140]#, 20, 50, 80, 120, 180]#, 120, 160]\n",
    "kernel_initializer_list = ['uniform']#, 'normal', 'lecun_uniform', 'uniform', 'zero', 'glorot_normal', 'glorot_uniform', 'he_normal', 'he_uniform']\n",
    "regularizer_list = [None]#, regularizers.l2(0.001), regularizers.l2(0.01)]\n",
    "activation_list = ['relu']#, 'tanh', 'sigmoid']#, 'hard_sigmoid', 'linear', 'softmax', 'softplus', 'softsign'] \n",
    "\n",
    "#--------------------------------\n",
    "# Erstellung Dictonary mit parametern\n",
    "param_grid = {'batch_size': batch_size_list,\n",
    "              'epochs': epochs_list,\n",
    "              'my_layer_units': layer_unit_list,\n",
    "              'my_learn_rate': learn_rate_list,\n",
    "              'my_dropout': dropout_list,\n",
    "              'my_regularizer': regularizer_list,\n",
    "              'my_activation': activation_list,\n",
    "              'my_kernel_initializer': kernel_initializer_list,\n",
    "              'my_weight_constraint': weight_constraint}\n"
   ]
  },
  {
   "cell_type": "markdown",
   "metadata": {},
   "source": [
    "### Modell finalisieren und Kreuzvaliderung starten"
   ]
  },
  {
   "cell_type": "code",
   "execution_count": 28,
   "metadata": {
    "scrolled": true
   },
   "outputs": [
    {
     "data": {
      "text/plain": [
       "'\\n#--------------------------------\\n# Modell finalisieren\\nmodel = KerasRegressor(build_fn=create_model, verbose=0)\\ngrid = GridSearchCV(estimator=model, param_grid=param_grid, cv=3, verbose=2, n_jobs=10)\\n\\n#--------------------------------\\n# Kreuzvaliderung starten\\ngrid_result = grid.fit(X, y)\\n'"
      ]
     },
     "execution_count": 28,
     "metadata": {},
     "output_type": "execute_result"
    }
   ],
   "source": [
    "\"\"\"\n",
    "#--------------------------------\n",
    "# Modell finalisieren\n",
    "model = KerasRegressor(build_fn=create_model, verbose=0)\n",
    "grid = GridSearchCV(estimator=model, param_grid=param_grid, cv=3, verbose=2, n_jobs=10)\n",
    "\n",
    "#--------------------------------\n",
    "# Kreuzvaliderung starten\n",
    "grid_result = grid.fit(X, y)\n",
    "\"\"\""
   ]
  },
  {
   "cell_type": "markdown",
   "metadata": {},
   "source": [
    "### Ausgabe der besten Parameterkombination"
   ]
  },
  {
   "cell_type": "code",
   "execution_count": null,
   "metadata": {},
   "outputs": [],
   "source": [
    "\"\"\"\n",
    "print('MSE for best found hyperparameter combitnation: {} with params: {}'.format(grid_result.best_score_, grid_result.best_params_))\n",
    "\"\"\""
   ]
  },
  {
   "cell_type": "markdown",
   "metadata": {},
   "source": [
    "## Alternatives Modell ohne Kreuzvaliderung"
   ]
  },
  {
   "cell_type": "code",
   "execution_count": 29,
   "metadata": {},
   "outputs": [
    {
     "name": "stdout",
     "output_type": "stream",
     "text": [
      "Epoch 1/40\n",
      " - 0s - loss: 1.0356\n",
      "Epoch 2/40\n",
      " - 0s - loss: 1.0095\n",
      "Epoch 3/40\n",
      " - 0s - loss: 0.8904\n",
      "Epoch 4/40\n",
      " - 0s - loss: 0.5008\n",
      "Epoch 5/40\n",
      " - 0s - loss: 0.2658\n",
      "Epoch 6/40\n",
      " - 0s - loss: 0.2420\n",
      "Epoch 7/40\n",
      " - 0s - loss: 0.1796\n",
      "Epoch 8/40\n",
      " - 0s - loss: 0.2195\n",
      "Epoch 9/40\n",
      " - 0s - loss: 0.1991\n",
      "Epoch 10/40\n",
      " - 0s - loss: 0.1796\n",
      "Epoch 11/40\n",
      " - 0s - loss: 0.1835\n",
      "Epoch 12/40\n",
      " - 0s - loss: 0.1765\n",
      "Epoch 13/40\n",
      " - 0s - loss: 0.1394\n",
      "Epoch 14/40\n",
      " - 0s - loss: 0.1782\n",
      "Epoch 15/40\n",
      " - 0s - loss: 0.1634\n",
      "Epoch 16/40\n",
      " - 0s - loss: 0.1678\n",
      "Epoch 17/40\n",
      " - 0s - loss: 0.1695\n",
      "Epoch 18/40\n",
      " - 0s - loss: 0.1325\n",
      "Epoch 19/40\n",
      " - 0s - loss: 0.1478\n",
      "Epoch 20/40\n",
      " - 0s - loss: 0.1306\n",
      "Epoch 21/40\n",
      " - 0s - loss: 0.1473\n",
      "Epoch 22/40\n",
      " - 0s - loss: 0.1408\n",
      "Epoch 23/40\n",
      " - 0s - loss: 0.1225\n",
      "Epoch 24/40\n",
      " - 0s - loss: 0.1304\n",
      "Epoch 25/40\n",
      " - 0s - loss: 0.1468\n",
      "Epoch 26/40\n",
      " - 0s - loss: 0.1367\n",
      "Epoch 27/40\n",
      " - 0s - loss: 0.1299\n",
      "Epoch 28/40\n",
      " - 0s - loss: 0.1090\n",
      "Epoch 29/40\n",
      " - 0s - loss: 0.1355\n",
      "Epoch 30/40\n",
      " - 0s - loss: 0.1343\n",
      "Epoch 31/40\n",
      " - 0s - loss: 0.1388\n",
      "Epoch 32/40\n",
      " - 0s - loss: 0.1145\n",
      "Epoch 33/40\n",
      " - 0s - loss: 0.1249\n",
      "Epoch 34/40\n",
      " - 0s - loss: 0.1206\n",
      "Epoch 35/40\n",
      " - 0s - loss: 0.1393\n",
      "Epoch 36/40\n",
      " - 0s - loss: 0.1006\n",
      "Epoch 37/40\n",
      " - 0s - loss: 0.1161\n",
      "Epoch 38/40\n",
      " - 0s - loss: 0.1458\n",
      "Epoch 39/40\n",
      " - 0s - loss: 0.1320\n",
      "Epoch 40/40\n",
      " - 0s - loss: 0.1377\n"
     ]
    },
    {
     "data": {
      "text/plain": [
       "<keras.callbacks.callbacks.History at 0x25d6f5afa88>"
      ]
     },
     "execution_count": 29,
     "metadata": {},
     "output_type": "execute_result"
    }
   ],
   "source": [
    "\n",
    "model = create_model(my_layer_units=140, my_learn_rate=0.0001, my_dropout=0.0,\n",
    "                     my_weight_constraint=None, my_regularizer=None, my_kernel_initializer='normal',\n",
    "                     my_activation='relu', input_dim=X_train.shape[1])\n",
    "\n",
    "model.fit(x=X, y=y, batch_size=15, verbose=2, epochs=40)\n"
   ]
  },
  {
   "cell_type": "markdown",
   "metadata": {},
   "source": [
    "### Prognose\n",
    "#### Auf den Testdaten"
   ]
  },
  {
   "cell_type": "code",
   "execution_count": 30,
   "metadata": {},
   "outputs": [
    {
     "data": {
      "text/plain": [
       "array([[108414.016],\n",
       "       [136084.05 ],\n",
       "       [133209.62 ],\n",
       "       [247302.9  ],\n",
       "       [624315.94 ]], dtype=float32)"
      ]
     },
     "execution_count": 30,
     "metadata": {},
     "output_type": "execute_result"
    }
   ],
   "source": [
    "\n",
    "pred = model.predict(X)\n",
    "pred = y_scalar.inverse_transform(pred.reshape(-1, 1))\n",
    "pred[:5]\n"
   ]
  },
  {
   "cell_type": "code",
   "execution_count": 31,
   "metadata": {},
   "outputs": [
    {
     "data": {
      "text/plain": [
       "array([[137500.],\n",
       "       [132000.],\n",
       "       [147000.],\n",
       "       [245000.],\n",
       "       [745000.]])"
      ]
     },
     "execution_count": 31,
     "metadata": {},
     "output_type": "execute_result"
    }
   ],
   "source": [
    "\n",
    "test = y_scalar.inverse_transform(y)[:5]\n",
    "test\n"
   ]
  },
  {
   "cell_type": "markdown",
   "metadata": {},
   "source": [
    "#### Auf den Validierungsdaten"
   ]
  },
  {
   "cell_type": "code",
   "execution_count": 32,
   "metadata": {},
   "outputs": [
    {
     "data": {
      "text/plain": [
       "array([[298377.06],\n",
       "       [129082.86],\n",
       "       [119308.51],\n",
       "       [152271.42],\n",
       "       [181709.47]], dtype=float32)"
      ]
     },
     "execution_count": 32,
     "metadata": {},
     "output_type": "execute_result"
    }
   ],
   "source": [
    "\n",
    "pred = model.predict(X_validierung)\n",
    "pred = y_scalar.inverse_transform(pred.reshape(-1, 1))\n",
    "pred[:5]\n"
   ]
  },
  {
   "cell_type": "code",
   "execution_count": 33,
   "metadata": {},
   "outputs": [
    {
     "data": {
      "text/plain": [
       "array([[310000.],\n",
       "       [131000.],\n",
       "       [110000.],\n",
       "       [155000.],\n",
       "       [174000.]])"
      ]
     },
     "execution_count": 33,
     "metadata": {},
     "output_type": "execute_result"
    }
   ],
   "source": [
    "\n",
    "test = y_scalar.inverse_transform(y_validierung)[:5]\n",
    "test\n"
   ]
  },
  {
   "cell_type": "markdown",
   "metadata": {},
   "source": [
    "#### Testdaten fit machen und Submit durchführen"
   ]
  },
  {
   "cell_type": "code",
   "execution_count": 34,
   "metadata": {},
   "outputs": [
    {
     "data": {
      "text/html": [
       "<div>\n",
       "<style scoped>\n",
       "    .dataframe tbody tr th:only-of-type {\n",
       "        vertical-align: middle;\n",
       "    }\n",
       "\n",
       "    .dataframe tbody tr th {\n",
       "        vertical-align: top;\n",
       "    }\n",
       "\n",
       "    .dataframe thead th {\n",
       "        text-align: right;\n",
       "    }\n",
       "</style>\n",
       "<table border=\"1\" class=\"dataframe\">\n",
       "  <thead>\n",
       "    <tr style=\"text-align: right;\">\n",
       "      <th></th>\n",
       "      <th>Id</th>\n",
       "      <th>SalePrice</th>\n",
       "    </tr>\n",
       "  </thead>\n",
       "  <tbody>\n",
       "    <tr>\n",
       "      <td>0</td>\n",
       "      <td>478</td>\n",
       "      <td>405431.31250</td>\n",
       "    </tr>\n",
       "    <tr>\n",
       "      <td>1</td>\n",
       "      <td>311</td>\n",
       "      <td>174138.71875</td>\n",
       "    </tr>\n",
       "    <tr>\n",
       "      <td>2</td>\n",
       "      <td>798</td>\n",
       "      <td>103350.93750</td>\n",
       "    </tr>\n",
       "    <tr>\n",
       "      <td>3</td>\n",
       "      <td>795</td>\n",
       "      <td>197373.25000</td>\n",
       "    </tr>\n",
       "    <tr>\n",
       "      <td>4</td>\n",
       "      <td>247</td>\n",
       "      <td>140921.96875</td>\n",
       "    </tr>\n",
       "  </tbody>\n",
       "</table>\n",
       "</div>"
      ],
      "text/plain": [
       "    Id     SalePrice\n",
       "0  478  405431.31250\n",
       "1  311  174138.71875\n",
       "2  798  103350.93750\n",
       "3  795  197373.25000\n",
       "4  247  140921.96875"
      ]
     },
     "execution_count": 34,
     "metadata": {},
     "output_type": "execute_result"
    }
   ],
   "source": [
    "\n",
    "#--------------------------------\n",
    "# Fit machen\n",
    "X = make_test_data_fit(test_data, my_scaler=RobustScaler)\n",
    "#--------------------------------\n",
    "# Submitten\n",
    "submission = submit(model, X, y_scalar, save=True, manu_name=True)\n",
    "submission.head()\n"
   ]
  },
  {
   "cell_type": "markdown",
   "metadata": {},
   "source": [
    "#### Betrachtung der Verteilung auf Testdatensatz"
   ]
  },
  {
   "cell_type": "code",
   "execution_count": 35,
   "metadata": {},
   "outputs": [
    {
     "data": {
      "text/plain": [
       "array([[<matplotlib.axes._subplots.AxesSubplot object at 0x0000025D7011F488>]],\n",
       "      dtype=object)"
      ]
     },
     "execution_count": 35,
     "metadata": {},
     "output_type": "execute_result"
    },
    {
     "data": {
      "image/png": "[encoded data removed]",
      "text/plain": [
       "<Figure size 864x432 with 1 Axes>"
      ]
     },
     "metadata": {
      "needs_background": "light"
     },
     "output_type": "display_data"
    }
   ],
   "source": [
    "\n",
    "submission.hist(column=['SalePrice'])  \n"
   ]
  },
  {
   "cell_type": "code",
   "execution_count": 36,
   "metadata": {},
   "outputs": [
    {
     "data": {
      "text/plain": [
       "count      1000.000000\n",
       "mean     181470.609375\n",
       "std       75372.414062\n",
       "min       27863.453125\n",
       "25%      131303.710938\n",
       "50%      156153.726562\n",
       "75%      211499.222656\n",
       "max      838150.437500\n",
       "Name: SalePrice, dtype: float64"
      ]
     },
     "execution_count": 36,
     "metadata": {},
     "output_type": "execute_result"
    }
   ],
   "source": [
    "\n",
    "submission['SalePrice'].describe()\n"
   ]
  },
  {
   "cell_type": "markdown",
   "metadata": {},
   "source": [
    "### Verteilung Traingsdatensatz zum Vergleich"
   ]
  },
  {
   "cell_type": "code",
   "execution_count": 37,
   "metadata": {},
   "outputs": [
    {
     "data": {
      "text/plain": [
       "array([[<matplotlib.axes._subplots.AxesSubplot object at 0x0000025D70340EC8>]],\n",
       "      dtype=object)"
      ]
     },
     "execution_count": 37,
     "metadata": {},
     "output_type": "execute_result"
    },
    {
     "data": {
      "image/png": "[encoded data removed]",
      "text/plain": [
       "<Figure size 864x432 with 1 Axes>"
      ]
     },
     "metadata": {
      "needs_background": "light"
     },
     "output_type": "display_data"
    }
   ],
   "source": [
    "\n",
    "train_data.hist(column=['SalePrice'])  \n"
   ]
  },
  {
   "cell_type": "code",
   "execution_count": 38,
   "metadata": {},
   "outputs": [
    {
     "data": {
      "text/plain": [
       "count       460.000000\n",
       "mean     179771.752174\n",
       "std       77419.758683\n",
       "min       40000.000000\n",
       "25%      130187.500000\n",
       "50%      162950.000000\n",
       "75%      207750.000000\n",
       "max      745000.000000\n",
       "Name: SalePrice, dtype: float64"
      ]
     },
     "execution_count": 38,
     "metadata": {},
     "output_type": "execute_result"
    }
   ],
   "source": [
    "\n",
    "train_data['SalePrice'].describe()\n"
   ]
  }
 ],
 "metadata": {
  "kernelspec": {
   "display_name": "Python 3",
   "language": "python",
   "name": "python3"
  },
  "language_info": {
   "codemirror_mode": {
    "name": "ipython",
    "version": 3
   },
   "file_extension": ".py",
   "mimetype": "text/x-python",
   "name": "python",
   "nbconvert_exporter": "python",
   "pygments_lexer": "ipython3",
   "version": "3.7.4"
  }
 },
 "nbformat": 4,
 "nbformat_minor": 2
}
